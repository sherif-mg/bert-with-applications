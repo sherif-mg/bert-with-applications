{
  "nbformat": 4,
  "nbformat_minor": 0,
  "metadata": {
    "colab": {
      "provenance": [],
      "collapsed_sections": []
    },
    "kernelspec": {
      "name": "python3",
      "display_name": "Python 3"
    },
    "language_info": {
      "name": "python"
    },
    "accelerator": "GPU"
  },
  "cells": [
    {
      "cell_type": "code",
      "execution_count": 1,
      "metadata": {
        "colab": {
          "base_uri": "https://localhost:8080/"
        },
        "id": "AN15fiuQ1sYL",
        "outputId": "41d5a67d-051f-4f0f-80ab-1fb66cbad04b"
      },
      "outputs": [
        {
          "output_type": "stream",
          "name": "stdout",
          "text": [
            "Looking in indexes: https://pypi.org/simple, https://us-python.pkg.dev/colab-wheels/public/simple/\n",
            "Collecting opendatasets\n",
            "  Downloading opendatasets-0.1.22-py3-none-any.whl (15 kB)\n",
            "Requirement already satisfied: tqdm in /usr/local/lib/python3.7/dist-packages (from opendatasets) (4.64.1)\n",
            "Requirement already satisfied: click in /usr/local/lib/python3.7/dist-packages (from opendatasets) (7.1.2)\n",
            "Requirement already satisfied: kaggle in /usr/local/lib/python3.7/dist-packages (from opendatasets) (1.5.12)\n",
            "Requirement already satisfied: requests in /usr/local/lib/python3.7/dist-packages (from kaggle->opendatasets) (2.23.0)\n",
            "Requirement already satisfied: python-dateutil in /usr/local/lib/python3.7/dist-packages (from kaggle->opendatasets) (2.8.2)\n",
            "Requirement already satisfied: urllib3 in /usr/local/lib/python3.7/dist-packages (from kaggle->opendatasets) (1.24.3)\n",
            "Requirement already satisfied: certifi in /usr/local/lib/python3.7/dist-packages (from kaggle->opendatasets) (2022.6.15)\n",
            "Requirement already satisfied: python-slugify in /usr/local/lib/python3.7/dist-packages (from kaggle->opendatasets) (6.1.2)\n",
            "Requirement already satisfied: six>=1.10 in /usr/local/lib/python3.7/dist-packages (from kaggle->opendatasets) (1.15.0)\n",
            "Requirement already satisfied: text-unidecode>=1.3 in /usr/local/lib/python3.7/dist-packages (from python-slugify->kaggle->opendatasets) (1.3)\n",
            "Requirement already satisfied: chardet<4,>=3.0.2 in /usr/local/lib/python3.7/dist-packages (from requests->kaggle->opendatasets) (3.0.4)\n",
            "Requirement already satisfied: idna<3,>=2.5 in /usr/local/lib/python3.7/dist-packages (from requests->kaggle->opendatasets) (2.10)\n",
            "Installing collected packages: opendatasets\n",
            "Successfully installed opendatasets-0.1.22\n"
          ]
        }
      ],
      "source": [
        "!pip install opendatasets"
      ]
    },
    {
      "cell_type": "code",
      "source": [
        "import opendatasets as od\n",
        "\n",
        "od.download(\"https://www.kaggle.com/datasets/abhinavwalia95/entity-annotated-corpus\")"
      ],
      "metadata": {
        "colab": {
          "base_uri": "https://localhost:8080/"
        },
        "id": "jgouNqnv27q5",
        "outputId": "1a983c93-1d1a-49c5-cee7-6d417ef58f5a"
      },
      "execution_count": 2,
      "outputs": [
        {
          "output_type": "stream",
          "name": "stdout",
          "text": [
            "Please provide your Kaggle credentials to download this dataset. Learn more: http://bit.ly/kaggle-creds\n",
            "Your Kaggle username: sherifmagdyabdellah\n",
            "Your Kaggle Key: ··········\n",
            "Downloading entity-annotated-corpus.zip to ./entity-annotated-corpus\n"
          ]
        },
        {
          "output_type": "stream",
          "name": "stderr",
          "text": [
            "100%|██████████| 26.4M/26.4M [00:00<00:00, 42.8MB/s]\n"
          ]
        },
        {
          "output_type": "stream",
          "name": "stdout",
          "text": [
            "\n"
          ]
        }
      ]
    },
    {
      "cell_type": "code",
      "source": [
        "import pandas as pd\n",
        "import numpy as np\n",
        "\n",
        "df = pd.read_csv('/content/entity-annotated-corpus/ner_dataset.csv',encoding='cp1252').to_numpy()\n",
        "df_pandas = pd.read_csv('/content/entity-annotated-corpus/ner_dataset.csv',encoding='cp1252')\n"
      ],
      "metadata": {
        "id": "VfLKNp0G3tRC"
      },
      "execution_count": 3,
      "outputs": []
    },
    {
      "cell_type": "code",
      "source": [
        "df_pandas.head()"
      ],
      "metadata": {
        "colab": {
          "base_uri": "https://localhost:8080/",
          "height": 206
        },
        "id": "n5-JeSJZ_ZBu",
        "outputId": "733adb4d-1e9a-4bf5-e148-31b815aeeb09"
      },
      "execution_count": 4,
      "outputs": [
        {
          "output_type": "execute_result",
          "data": {
            "text/plain": [
              "    Sentence #           Word  POS Tag\n",
              "0  Sentence: 1      Thousands  NNS   O\n",
              "1          NaN             of   IN   O\n",
              "2          NaN  demonstrators  NNS   O\n",
              "3          NaN           have  VBP   O\n",
              "4          NaN        marched  VBN   O"
            ],
            "text/html": [
              "\n",
              "  <div id=\"df-78ea0678-ab3a-478b-b209-2e2773028559\">\n",
              "    <div class=\"colab-df-container\">\n",
              "      <div>\n",
              "<style scoped>\n",
              "    .dataframe tbody tr th:only-of-type {\n",
              "        vertical-align: middle;\n",
              "    }\n",
              "\n",
              "    .dataframe tbody tr th {\n",
              "        vertical-align: top;\n",
              "    }\n",
              "\n",
              "    .dataframe thead th {\n",
              "        text-align: right;\n",
              "    }\n",
              "</style>\n",
              "<table border=\"1\" class=\"dataframe\">\n",
              "  <thead>\n",
              "    <tr style=\"text-align: right;\">\n",
              "      <th></th>\n",
              "      <th>Sentence #</th>\n",
              "      <th>Word</th>\n",
              "      <th>POS</th>\n",
              "      <th>Tag</th>\n",
              "    </tr>\n",
              "  </thead>\n",
              "  <tbody>\n",
              "    <tr>\n",
              "      <th>0</th>\n",
              "      <td>Sentence: 1</td>\n",
              "      <td>Thousands</td>\n",
              "      <td>NNS</td>\n",
              "      <td>O</td>\n",
              "    </tr>\n",
              "    <tr>\n",
              "      <th>1</th>\n",
              "      <td>NaN</td>\n",
              "      <td>of</td>\n",
              "      <td>IN</td>\n",
              "      <td>O</td>\n",
              "    </tr>\n",
              "    <tr>\n",
              "      <th>2</th>\n",
              "      <td>NaN</td>\n",
              "      <td>demonstrators</td>\n",
              "      <td>NNS</td>\n",
              "      <td>O</td>\n",
              "    </tr>\n",
              "    <tr>\n",
              "      <th>3</th>\n",
              "      <td>NaN</td>\n",
              "      <td>have</td>\n",
              "      <td>VBP</td>\n",
              "      <td>O</td>\n",
              "    </tr>\n",
              "    <tr>\n",
              "      <th>4</th>\n",
              "      <td>NaN</td>\n",
              "      <td>marched</td>\n",
              "      <td>VBN</td>\n",
              "      <td>O</td>\n",
              "    </tr>\n",
              "  </tbody>\n",
              "</table>\n",
              "</div>\n",
              "      <button class=\"colab-df-convert\" onclick=\"convertToInteractive('df-78ea0678-ab3a-478b-b209-2e2773028559')\"\n",
              "              title=\"Convert this dataframe to an interactive table.\"\n",
              "              style=\"display:none;\">\n",
              "        \n",
              "  <svg xmlns=\"http://www.w3.org/2000/svg\" height=\"24px\"viewBox=\"0 0 24 24\"\n",
              "       width=\"24px\">\n",
              "    <path d=\"M0 0h24v24H0V0z\" fill=\"none\"/>\n",
              "    <path d=\"M18.56 5.44l.94 2.06.94-2.06 2.06-.94-2.06-.94-.94-2.06-.94 2.06-2.06.94zm-11 1L8.5 8.5l.94-2.06 2.06-.94-2.06-.94L8.5 2.5l-.94 2.06-2.06.94zm10 10l.94 2.06.94-2.06 2.06-.94-2.06-.94-.94-2.06-.94 2.06-2.06.94z\"/><path d=\"M17.41 7.96l-1.37-1.37c-.4-.4-.92-.59-1.43-.59-.52 0-1.04.2-1.43.59L10.3 9.45l-7.72 7.72c-.78.78-.78 2.05 0 2.83L4 21.41c.39.39.9.59 1.41.59.51 0 1.02-.2 1.41-.59l7.78-7.78 2.81-2.81c.8-.78.8-2.07 0-2.86zM5.41 20L4 18.59l7.72-7.72 1.47 1.35L5.41 20z\"/>\n",
              "  </svg>\n",
              "      </button>\n",
              "      \n",
              "  <style>\n",
              "    .colab-df-container {\n",
              "      display:flex;\n",
              "      flex-wrap:wrap;\n",
              "      gap: 12px;\n",
              "    }\n",
              "\n",
              "    .colab-df-convert {\n",
              "      background-color: #E8F0FE;\n",
              "      border: none;\n",
              "      border-radius: 50%;\n",
              "      cursor: pointer;\n",
              "      display: none;\n",
              "      fill: #1967D2;\n",
              "      height: 32px;\n",
              "      padding: 0 0 0 0;\n",
              "      width: 32px;\n",
              "    }\n",
              "\n",
              "    .colab-df-convert:hover {\n",
              "      background-color: #E2EBFA;\n",
              "      box-shadow: 0px 1px 2px rgba(60, 64, 67, 0.3), 0px 1px 3px 1px rgba(60, 64, 67, 0.15);\n",
              "      fill: #174EA6;\n",
              "    }\n",
              "\n",
              "    [theme=dark] .colab-df-convert {\n",
              "      background-color: #3B4455;\n",
              "      fill: #D2E3FC;\n",
              "    }\n",
              "\n",
              "    [theme=dark] .colab-df-convert:hover {\n",
              "      background-color: #434B5C;\n",
              "      box-shadow: 0px 1px 3px 1px rgba(0, 0, 0, 0.15);\n",
              "      filter: drop-shadow(0px 1px 2px rgba(0, 0, 0, 0.3));\n",
              "      fill: #FFFFFF;\n",
              "    }\n",
              "  </style>\n",
              "\n",
              "      <script>\n",
              "        const buttonEl =\n",
              "          document.querySelector('#df-78ea0678-ab3a-478b-b209-2e2773028559 button.colab-df-convert');\n",
              "        buttonEl.style.display =\n",
              "          google.colab.kernel.accessAllowed ? 'block' : 'none';\n",
              "\n",
              "        async function convertToInteractive(key) {\n",
              "          const element = document.querySelector('#df-78ea0678-ab3a-478b-b209-2e2773028559');\n",
              "          const dataTable =\n",
              "            await google.colab.kernel.invokeFunction('convertToInteractive',\n",
              "                                                     [key], {});\n",
              "          if (!dataTable) return;\n",
              "\n",
              "          const docLinkHtml = 'Like what you see? Visit the ' +\n",
              "            '<a target=\"_blank\" href=https://colab.research.google.com/notebooks/data_table.ipynb>data table notebook</a>'\n",
              "            + ' to learn more about interactive tables.';\n",
              "          element.innerHTML = '';\n",
              "          dataTable['output_type'] = 'display_data';\n",
              "          await google.colab.output.renderOutput(dataTable, element);\n",
              "          const docLink = document.createElement('div');\n",
              "          docLink.innerHTML = docLinkHtml;\n",
              "          element.appendChild(docLink);\n",
              "        }\n",
              "      </script>\n",
              "    </div>\n",
              "  </div>\n",
              "  "
            ]
          },
          "metadata": {},
          "execution_count": 4
        }
      ]
    },
    {
      "cell_type": "code",
      "source": [
        "labels=np.unique(df_pandas['Tag'])\n",
        "#labels name\n",
        "print(f\"len= {labels.shape[0]}\")\n",
        "for l in labels:\n",
        "  print(l)\n"
      ],
      "metadata": {
        "colab": {
          "base_uri": "https://localhost:8080/"
        },
        "id": "tYZgM7bXv-_X",
        "outputId": "b0b5ac4c-020d-493f-d3b9-8476f70f4a43"
      },
      "execution_count": 5,
      "outputs": [
        {
          "output_type": "stream",
          "name": "stdout",
          "text": [
            "len= 17\n",
            "B-art\n",
            "B-eve\n",
            "B-geo\n",
            "B-gpe\n",
            "B-nat\n",
            "B-org\n",
            "B-per\n",
            "B-tim\n",
            "I-art\n",
            "I-eve\n",
            "I-geo\n",
            "I-gpe\n",
            "I-nat\n",
            "I-org\n",
            "I-per\n",
            "I-tim\n",
            "O\n"
          ]
        }
      ]
    },
    {
      "cell_type": "code",
      "source": [
        "All_sentence=[]\n",
        "All_pos=[]\n",
        "All_tag=[]\n",
        "Sentence=\"\"\n",
        "Pos=[]\n",
        "Tag=[]\n",
        "for row in df:\n",
        "  if(type(row[0])==str):\n",
        "    if(Sentence!=\"\" and (len(Pos)==len(Tag)) and (len(Sentence.split())==len(Pos))):\n",
        "      All_sentence.append(Sentence)\n",
        "      All_pos.append(Pos)\n",
        "      All_tag.append(Tag)\n",
        "    Sentence=\"\"\n",
        "    Pos=[]\n",
        "    Tag=[]\n",
        "    Sentence+=row[1]\n",
        "    Pos.append(row[2])\n",
        "    Tag.append(row[3])\n",
        "  else:\n",
        "    Sentence+=\" \"+row[1]\n",
        "    Pos.append(row[2])\n",
        "    Tag.append(row[3])\n",
        "\n"
      ],
      "metadata": {
        "id": "111AzlAE4s5I"
      },
      "execution_count": 6,
      "outputs": []
    },
    {
      "cell_type": "code",
      "source": [
        "print(f\"All sentences count= {len(All_sentence)}\")\n",
        "print(f\"All Pos count= {len(All_pos)}\")\n",
        "print(f\"All tag count= {len(All_tag)}\")\n",
        "print(\"they must be equal\")"
      ],
      "metadata": {
        "colab": {
          "base_uri": "https://localhost:8080/"
        },
        "id": "oUMiicg9CrA5",
        "outputId": "8a22acd9-1005-4a7f-a4fd-82734777e3b8"
      },
      "execution_count": 7,
      "outputs": [
        {
          "output_type": "stream",
          "name": "stdout",
          "text": [
            "All sentences count= 47957\n",
            "All Pos count= 47957\n",
            "All tag count= 47957\n",
            "they must be equal\n"
          ]
        }
      ]
    },
    {
      "cell_type": "code",
      "source": [
        "print(All_sentence[0].split())\n",
        "print(All_tag[0])\n",
        "print(All_pos[0])"
      ],
      "metadata": {
        "colab": {
          "base_uri": "https://localhost:8080/"
        },
        "id": "L_X82OWt_I_y",
        "outputId": "0da631cd-7205-4b5a-d07b-9a454659980d"
      },
      "execution_count": 8,
      "outputs": [
        {
          "output_type": "stream",
          "name": "stdout",
          "text": [
            "['Thousands', 'of', 'demonstrators', 'have', 'marched', 'through', 'London', 'to', 'protest', 'the', 'war', 'in', 'Iraq', 'and', 'demand', 'the', 'withdrawal', 'of', 'British', 'troops', 'from', 'that', 'country', '.']\n",
            "['O', 'O', 'O', 'O', 'O', 'O', 'B-geo', 'O', 'O', 'O', 'O', 'O', 'B-geo', 'O', 'O', 'O', 'O', 'O', 'B-gpe', 'O', 'O', 'O', 'O', 'O']\n",
            "['NNS', 'IN', 'NNS', 'VBP', 'VBN', 'IN', 'NNP', 'TO', 'VB', 'DT', 'NN', 'IN', 'NNP', 'CC', 'VB', 'DT', 'NN', 'IN', 'JJ', 'NNS', 'IN', 'DT', 'NN', '.']\n"
          ]
        }
      ]
    },
    {
      "cell_type": "code",
      "source": [
        "import matplotlib.pyplot as plt \n",
        "import numpy as np\n",
        "%matplotlib inline\n",
        "plt.rcParams.update({'figure.figsize':(7,5), 'figure.dpi':100})\n",
        "\n",
        "# Plot Histogram on x\n",
        "plt.hist([len(i) for i in All_pos])\n",
        "plt.gca().set(title='Frequency Histogram', ylabel='Frequency');"
      ],
      "metadata": {
        "colab": {
          "base_uri": "https://localhost:8080/",
          "height": 460
        },
        "id": "n3pCgR7OFrZn",
        "outputId": "b6bee808-a0f2-408d-eae7-c4e99009e5d9"
      },
      "execution_count": 9,
      "outputs": [
        {
          "output_type": "display_data",
          "data": {
            "text/plain": [
              "<Figure size 700x500 with 1 Axes>"
            ],
            "image/png": "[encoded data removed]"
          },
          "metadata": {
            "needs_background": "light"
          }
        }
      ]
    },
    {
      "cell_type": "code",
      "source": [
        "# A dependency of the preprocessing for BERT inputs\n",
        "!pip install -q -U \"tensorflow-text==2.8.*\""
      ],
      "metadata": {
        "colab": {
          "base_uri": "https://localhost:8080/"
        },
        "id": "NebFDBqNmQiu",
        "outputId": "62743134-aa0a-43d5-883e-eb751e9bda96"
      },
      "execution_count": 10,
      "outputs": [
        {
          "output_type": "stream",
          "name": "stdout",
          "text": [
            "\u001b[K     |████████████████████████████████| 4.9 MB 6.9 MB/s \n",
            "\u001b[?25h"
          ]
        }
      ]
    },
    {
      "cell_type": "code",
      "source": [
        "!pip install -q tf-models-official==2.7.0"
      ],
      "metadata": {
        "colab": {
          "base_uri": "https://localhost:8080/"
        },
        "id": "nzPGnrQemTBK",
        "outputId": "f2c886d5-b8d8-4ab1-c3c0-e5d8fb78f4e2"
      },
      "execution_count": 11,
      "outputs": [
        {
          "output_type": "stream",
          "name": "stdout",
          "text": [
            "\u001b[K     |████████████████████████████████| 1.8 MB 7.3 MB/s \n",
            "\u001b[K     |████████████████████████████████| 238 kB 49.7 MB/s \n",
            "\u001b[K     |████████████████████████████████| 1.3 MB 51.5 MB/s \n",
            "\u001b[K     |████████████████████████████████| 99 kB 10.2 MB/s \n",
            "\u001b[K     |████████████████████████████████| 116 kB 68.5 MB/s \n",
            "\u001b[K     |████████████████████████████████| 1.1 MB 67.1 MB/s \n",
            "\u001b[K     |████████████████████████████████| 43 kB 2.5 MB/s \n",
            "\u001b[K     |████████████████████████████████| 352 kB 56.2 MB/s \n",
            "\u001b[?25h  Building wheel for py-cpuinfo (setup.py) ... \u001b[?25l\u001b[?25hdone\n",
            "  Building wheel for seqeval (setup.py) ... \u001b[?25l\u001b[?25hdone\n"
          ]
        }
      ]
    },
    {
      "cell_type": "code",
      "source": [
        "import os\n",
        "import shutil\n",
        "\n",
        "import tensorflow as tf\n",
        "import tensorflow_hub as hub\n",
        "import tensorflow_text as text\n",
        "from official.nlp import optimization  # to create AdamW optimizer\n",
        "\n",
        "import matplotlib.pyplot as plt\n",
        "\n"
      ],
      "metadata": {
        "id": "yLmwF2KlmJ9s"
      },
      "execution_count": 12,
      "outputs": []
    },
    {
      "cell_type": "code",
      "source": [
        "!pip install transformers"
      ],
      "metadata": {
        "colab": {
          "base_uri": "https://localhost:8080/"
        },
        "id": "9K1-XeLlN0iK",
        "outputId": "d4dce684-d4b6-41a9-f880-d358955daa62"
      },
      "execution_count": 13,
      "outputs": [
        {
          "output_type": "stream",
          "name": "stdout",
          "text": [
            "Looking in indexes: https://pypi.org/simple, https://us-python.pkg.dev/colab-wheels/public/simple/\n",
            "Collecting transformers\n",
            "  Downloading transformers-4.22.2-py3-none-any.whl (4.9 MB)\n",
            "\u001b[K     |████████████████████████████████| 4.9 MB 9.5 MB/s \n",
            "\u001b[?25hRequirement already satisfied: importlib-metadata in /usr/local/lib/python3.7/dist-packages (from transformers) (4.12.0)\n",
            "Requirement already satisfied: tqdm>=4.27 in /usr/local/lib/python3.7/dist-packages (from transformers) (4.64.1)\n",
            "Requirement already satisfied: numpy>=1.17 in /usr/local/lib/python3.7/dist-packages (from transformers) (1.21.6)\n",
            "Collecting huggingface-hub<1.0,>=0.9.0\n",
            "  Downloading huggingface_hub-0.10.0-py3-none-any.whl (163 kB)\n",
            "\u001b[K     |████████████████████████████████| 163 kB 71.6 MB/s \n",
            "\u001b[?25hRequirement already satisfied: regex!=2019.12.17 in /usr/local/lib/python3.7/dist-packages (from transformers) (2022.6.2)\n",
            "Requirement already satisfied: requests in /usr/local/lib/python3.7/dist-packages (from transformers) (2.23.0)\n",
            "Requirement already satisfied: pyyaml>=5.1 in /usr/local/lib/python3.7/dist-packages (from transformers) (6.0)\n",
            "Requirement already satisfied: packaging>=20.0 in /usr/local/lib/python3.7/dist-packages (from transformers) (21.3)\n",
            "Collecting tokenizers!=0.11.3,<0.13,>=0.11.1\n",
            "  Downloading tokenizers-0.12.1-cp37-cp37m-manylinux_2_12_x86_64.manylinux2010_x86_64.whl (6.6 MB)\n",
            "\u001b[K     |████████████████████████████████| 6.6 MB 49.4 MB/s \n",
            "\u001b[?25hRequirement already satisfied: filelock in /usr/local/lib/python3.7/dist-packages (from transformers) (3.8.0)\n",
            "Requirement already satisfied: typing-extensions>=3.7.4.3 in /usr/local/lib/python3.7/dist-packages (from huggingface-hub<1.0,>=0.9.0->transformers) (4.1.1)\n",
            "Requirement already satisfied: pyparsing!=3.0.5,>=2.0.2 in /usr/local/lib/python3.7/dist-packages (from packaging>=20.0->transformers) (3.0.9)\n",
            "Requirement already satisfied: zipp>=0.5 in /usr/local/lib/python3.7/dist-packages (from importlib-metadata->transformers) (3.8.1)\n",
            "Requirement already satisfied: chardet<4,>=3.0.2 in /usr/local/lib/python3.7/dist-packages (from requests->transformers) (3.0.4)\n",
            "Requirement already satisfied: certifi>=2017.4.17 in /usr/local/lib/python3.7/dist-packages (from requests->transformers) (2022.6.15)\n",
            "Requirement already satisfied: urllib3!=1.25.0,!=1.25.1,<1.26,>=1.21.1 in /usr/local/lib/python3.7/dist-packages (from requests->transformers) (1.24.3)\n",
            "Requirement already satisfied: idna<3,>=2.5 in /usr/local/lib/python3.7/dist-packages (from requests->transformers) (2.10)\n",
            "Installing collected packages: tokenizers, huggingface-hub, transformers\n",
            "Successfully installed huggingface-hub-0.10.0 tokenizers-0.12.1 transformers-4.22.2\n"
          ]
        }
      ]
    },
    {
      "cell_type": "code",
      "source": [
        "import transformers\n",
        "from transformers import BertTokenizerFast\n"
      ],
      "metadata": {
        "id": "LF09akoSNBAX"
      },
      "execution_count": 14,
      "outputs": []
    },
    {
      "cell_type": "code",
      "source": [
        "MAX_LENGTH=55\n",
        "Labels={\n",
        "    'B-art':16, 'B-eve':15, 'B-geo':14, 'B-gpe':13, 'B-nat':12, 'B-org':11, 'B-per':10,\n",
        "       'B-tim':9, 'I-art':8, 'I-eve':7, 'I-geo':6, 'I-gpe':5, 'I-nat':4, 'I-org':3,\n",
        "       'I-per':2, 'I-tim':1, 'O':0\n",
        "}"
      ],
      "metadata": {
        "id": "LFwIfO013nTc"
      },
      "execution_count": 25,
      "outputs": []
    },
    {
      "cell_type": "code",
      "source": [
        "def split_into_chuncks(lst,max_length):\n",
        "  #divide 2 from max_length beacause we will add special tokens [cls],[sep]\n",
        "  return [lst[i * (max_length-2):(i + 1) * (max_length-2)] for i in range((len(lst) + (max_length-2) - 1) // (max_length-2) )]\n",
        "def add_padding(lst,max_length):\n",
        "   return [ i+([0]*(max_length-len(i))) for i in lst]\n",
        "\n",
        "def preprocessingtokens(All_sentence,All_pos,All_tag,max_length,tag_labels):\n",
        "  All_ids=[]\n",
        "  All_final_pos=[]\n",
        "  All_final_tags=[]\n",
        "  All_masks=[]\n",
        "  All_type_ids=[]\n",
        "  t = BertTokenizerFast.from_pretrained('bert-base-uncased')\n",
        "\n",
        "  for idx , sentence in enumerate(All_sentence):\n",
        "    sentences_splited_into_words =All_sentence[idx].split(\" \")\n",
        "    e = t(sentences_splited_into_words, add_special_tokens=False, return_attention_mask=False, return_token_type_ids=False)\n",
        "    tokens=[]\n",
        "    Pos=[]\n",
        "    Tag=[]\n",
        "    for i ,token in enumerate(e[\"input_ids\"]):\n",
        "      for id in token:\n",
        "        #add labels for wordpieces \n",
        "        # if word like embedding will be like em , ##bed , ##ding \n",
        "        #so we will add labels for all wordpieces\n",
        "        # and don't use word_id() because this has issue which consider 100,000,000 5 words(any word has integer char)\n",
        "        tokens.append(id)\n",
        "        Pos.append(All_pos[idx][i])\n",
        "        Tag.append(tag_labels[All_tag[idx][i]])\n",
        "    #tokens=tokens[\"input_ids\"]\n",
        "    tokens=split_into_chuncks(tokens,max_length)\n",
        "    Pos=split_into_chuncks(Pos,max_length)\n",
        "    Tag=split_into_chuncks(Tag,max_length)\n",
        "\n",
        "    #add [cls] , [sep] and create mask list and type_ids list\n",
        "    tokens=[ [101]+i+[102] for i in tokens]\n",
        "    Pos=[ [0]+i+[0] for i in Pos]\n",
        "    Tag=[ [0]+i+[0] for i in Tag]\n",
        "    Mask=[ [1]*len(i) for i in tokens]\n",
        "    type_ids=[ [0]*len(i) for i in tokens]\n",
        "\n",
        "    # add padding\n",
        "    tokens=add_padding(tokens,max_length)\n",
        "    Pos=add_padding(Pos,max_length)\n",
        "    Tag=add_padding(Tag,max_length)\n",
        "    Mask=add_padding(Mask,max_length)\n",
        "    type_ids=add_padding(type_ids,max_length)\n",
        "\n",
        "    All_ids.extend(tokens)\n",
        "    All_final_pos.extend(Pos)\n",
        "    All_final_tags.extend(Tag)\n",
        "    All_masks.extend(Mask)\n",
        "    All_type_ids.extend(type_ids)\n",
        "\n",
        "  return {\"ids\":np.array(All_ids),\"mask\":np.array(All_masks),\"token_type_id\":np.array(All_type_ids),\"target_pos\":np.array(All_final_pos),\"target_tag\":np.array(All_final_tags)}\n"
      ],
      "metadata": {
        "id": "kpiH9W5CrcCE"
      },
      "execution_count": 16,
      "outputs": []
    },
    {
      "cell_type": "code",
      "source": [
        "data=preprocessingtokens(All_sentence,All_pos,All_tag,55,Labels)"
      ],
      "metadata": {
        "id": "1NwnT6Cqzl6X"
      },
      "execution_count": 23,
      "outputs": []
    },
    {
      "cell_type": "code",
      "source": [
        "print(data[\"ids\"].shape)\n",
        "print(data[\"mask\"].shape)\n",
        "print(data[\"token_type_id\"].shape)\n",
        "print(data[\"target_tag\"].shape)"
      ],
      "metadata": {
        "colab": {
          "base_uri": "https://localhost:8080/"
        },
        "id": "QtoZQ__s4iS9",
        "outputId": "fcf0a00d-0c78-4648-aa58-87929ad6a70a"
      },
      "execution_count": 24,
      "outputs": [
        {
          "output_type": "stream",
          "name": "stdout",
          "text": [
            "(48176, 55)\n",
            "(48176, 55)\n",
            "(48176, 55)\n",
            "(48176, 55)\n"
          ]
        }
      ]
    },
    {
      "cell_type": "code",
      "source": [
        "def build_classifier_model():\n",
        "  input_word_ids = tf.keras.layers.Input(shape=(MAX_LENGTH,), dtype=tf.int32,\n",
        "                                        name=\"input_word_ids\")\n",
        "  input_mask = tf.keras.layers.Input(shape=(MAX_LENGTH,), dtype=tf.int32,\n",
        "                                    name=\"input_mask\")\n",
        "  input_type_ids = tf.keras.layers.Input(shape=(MAX_LENGTH,), dtype=tf.int32,\n",
        "                                      name=\"input_type_ids\")\n",
        "  encoder = hub.KerasLayer(\"https://tfhub.dev/tensorflow/small_bert/bert_en_uncased_L-4_H-512_A-8/1\", trainable=True, name='BERT_encoder')\n",
        "  \n",
        "  output = encoder({\"input_word_ids\":input_word_ids,\"input_mask\":input_mask, \"input_type_ids\":input_type_ids})\n",
        "  net = tf.keras.layers.Dropout(0.1)(output[\"sequence_output\"])\n",
        "  net = tf.keras.layers.TimeDistributed(tf.keras.layers.Dense(1024, activation=\"relu\"))(net)\n",
        "  net = tf.keras.layers.Dropout(0.1)(net)\n",
        "  net = tf.keras.layers.TimeDistributed(tf.keras.layers.Dense(labels.shape[0], activation=\"softmax\"))(net)\n",
        "\n",
        "  return tf.keras.Model(inputs=[input_word_ids, input_mask, input_type_ids],outputs= net)"
      ],
      "metadata": {
        "id": "vV8GBwbzloen"
      },
      "execution_count": 38,
      "outputs": []
    },
    {
      "cell_type": "code",
      "source": [
        "model=build_classifier_model()\n",
        "model.summary()"
      ],
      "metadata": {
        "colab": {
          "base_uri": "https://localhost:8080/"
        },
        "id": "0C5Nl8wB7vRf",
        "outputId": "ad7159a2-6d01-41f6-d6e0-07b2d0972f45"
      },
      "execution_count": 39,
      "outputs": [
        {
          "output_type": "stream",
          "name": "stdout",
          "text": [
            "Model: \"model_2\"\n",
            "__________________________________________________________________________________________________\n",
            " Layer (type)                   Output Shape         Param #     Connected to                     \n",
            "==================================================================================================\n",
            " input_mask (InputLayer)        [(None, 55)]         0           []                               \n",
            "                                                                                                  \n",
            " input_type_ids (InputLayer)    [(None, 55)]         0           []                               \n",
            "                                                                                                  \n",
            " input_word_ids (InputLayer)    [(None, 55)]         0           []                               \n",
            "                                                                                                  \n",
            " BERT_encoder (KerasLayer)      {'pooled_output': (  28763649    ['input_mask[0][0]',             \n",
            "                                None, 512),                       'input_type_ids[0][0]',         \n",
            "                                 'sequence_output':               'input_word_ids[0][0]']         \n",
            "                                 (None, 55, 512),                                                 \n",
            "                                 'encoder_outputs':                                               \n",
            "                                 [(None, 55, 512),                                                \n",
            "                                 (None, 55, 512),                                                 \n",
            "                                 (None, 55, 512),                                                 \n",
            "                                 (None, 55, 512)],                                                \n",
            "                                 'default': (None,                                                \n",
            "                                512)}                                                             \n",
            "                                                                                                  \n",
            " dropout_4 (Dropout)            (None, 55, 512)      0           ['BERT_encoder[0][6]']           \n",
            "                                                                                                  \n",
            " time_distributed_4 (TimeDistri  (None, 55, 1024)    525312      ['dropout_4[0][0]']              \n",
            " buted)                                                                                           \n",
            "                                                                                                  \n",
            " dropout_5 (Dropout)            (None, 55, 1024)     0           ['time_distributed_4[0][0]']     \n",
            "                                                                                                  \n",
            " time_distributed_5 (TimeDistri  (None, 55, 17)      17425       ['dropout_5[0][0]']              \n",
            " buted)                                                                                           \n",
            "                                                                                                  \n",
            "==================================================================================================\n",
            "Total params: 29,306,386\n",
            "Trainable params: 29,306,385\n",
            "Non-trainable params: 1\n",
            "__________________________________________________________________________________________________\n"
          ]
        }
      ]
    },
    {
      "cell_type": "code",
      "source": [
        "model.compile(loss='sparse_categorical_crossentropy', optimizer='adam', metrics=['accuracy'])\n"
      ],
      "metadata": {
        "id": "shonUz2rKLEn"
      },
      "execution_count": 40,
      "outputs": []
    },
    {
      "cell_type": "code",
      "source": [
        "model.fit(x=[data[\"ids\"],data[\"mask\"],data[\"token_type_id\"]], y =data[\"target_tag\"], epochs = 4, batch_size = 64,validation_split=0.2)\n"
      ],
      "metadata": {
        "colab": {
          "base_uri": "https://localhost:8080/"
        },
        "id": "K7D0_DJSJq9J",
        "outputId": "bdab03e1-fa26-4a2f-ac49-adae69f29489"
      },
      "execution_count": 41,
      "outputs": [
        {
          "output_type": "stream",
          "name": "stdout",
          "text": [
            "Epoch 1/4\n",
            "603/603 [==============================] - 103s 160ms/step - loss: 0.1542 - accuracy: 0.9581 - val_loss: 0.0875 - val_accuracy: 0.9742\n",
            "Epoch 2/4\n",
            "603/603 [==============================] - 95s 158ms/step - loss: 0.0831 - accuracy: 0.9749 - val_loss: 0.0915 - val_accuracy: 0.9751\n",
            "Epoch 3/4\n",
            "603/603 [==============================] - 95s 158ms/step - loss: 0.0827 - accuracy: 0.9750 - val_loss: 0.0963 - val_accuracy: 0.9718\n",
            "Epoch 4/4\n",
            "603/603 [==============================] - 96s 158ms/step - loss: 0.0878 - accuracy: 0.9734 - val_loss: 0.0986 - val_accuracy: 0.9724\n"
          ]
        },
        {
          "output_type": "execute_result",
          "data": {
            "text/plain": [
              "<keras.callbacks.History at 0x7fd4e04dbf90>"
            ]
          },
          "metadata": {},
          "execution_count": 41
        }
      ]
    },
    {
      "cell_type": "code",
      "source": [
        "model.save(\"/content/drive/MyDrive/bert_ner.h5\")"
      ],
      "metadata": {
        "id": "qMfOwa9dMMJ9"
      },
      "execution_count": 42,
      "outputs": []
    },
    {
      "cell_type": "code",
      "source": [
        "def split_into_chuncks(lst,max_length):\n",
        "  #divide 2 from max_length beacause we will add special tokens [cls],[sep]\n",
        "  return [lst[i * (max_length-2):(i + 1) * (max_length-2)] for i in range((len(lst) + (max_length-2) - 1) // (max_length-2) )]\n",
        "def add_padding(lst,max_length):\n",
        "   return [ i+([0]*(max_length-len(i))) for i in lst]\n",
        "\n",
        "def rubbish_preprocessingtokens(All_sentence,All_pos,All_tag,max_length):\n",
        "  All_ids=[]\n",
        "  All_final_pos=[]\n",
        "  All_final_tags=[]\n",
        "  All_masks=[]\n",
        "  All_type_ids=[]\n",
        "  tokenizer = BertTokenizerFast.from_pretrained('bert-base-uncased')\n",
        "\n",
        "  for idx , sentence in enumerate(All_sentence):\n",
        "    tokens = t(All_sentence[idx], add_special_tokens=False, return_attention_mask=False, return_token_type_ids=False)\n",
        "    Pos=[]\n",
        "    Tag=[]\n",
        "    for i in tokens.word_ids():\n",
        "      #add labels for wordpieces \n",
        "      # if word like embedding will be like em , ##bed , ##ding \n",
        "      #so we will add labels for all wordpieces\n",
        "      print(f\"idx {idx}, i= {i}\")\n",
        "      Pos.append(All_pos[idx][i])\n",
        "      Tag.append(All_tag[idx][i])\n",
        "\n",
        "    tokens=tokens[\"input_ids\"]\n",
        "    tokens=split_into_chuncks(tokens,max_length)\n",
        "    Pos=split_into_chuncks(Pos,max_length)\n",
        "    Tag=split_into_chuncks(Tag,max_length)\n",
        "\n",
        "    #add [cls] , [sep] and create mask list and type_ids list\n",
        "    tokens=[ [101]+i+[102] for i in tokens]\n",
        "    Pos=[ [0]+i+[0] for i in Pos]\n",
        "    Tag=[ [0]+i+[0] for i in Tag]\n",
        "    Mask=[ [1]*len(i) for i in tokens]\n",
        "    type_ids=[ [0]*len(i) for i in tokens]\n",
        "\n",
        "    # add padding\n",
        "    tokens=add_padding(tokens,max_length)\n",
        "    Pos=add_padding(Pos,max_length)\n",
        "    Tag=add_padding(Tag,max_length)\n",
        "    Mask=add_padding(Mask,max_length)\n",
        "    type_ids=add_padding(type_ids,max_length)\n",
        "\n",
        "\n",
        "    All_ids.extend(tokens)\n",
        "    All_final_pos.extend(Pos)\n",
        "    All_final_tags.extend(Tag)\n",
        "    All_masks.extend(Mask)\n",
        "    All_type_ids.extend(type_ids)\n",
        "  return \n",
        "  {\n",
        "    \"ids\":All_ids,\n",
        "    \"mask\":All_masks,\n",
        "    \"token_type_id\":All_type_ids,\n",
        "    \"target_pos\":All_final_pos,\n",
        "    \"target_tag\":All_final_tags\n",
        "  }"
      ],
      "metadata": {
        "id": "3sif9X_pb6QQ"
      },
      "execution_count": 188,
      "outputs": []
    }
  ]
}
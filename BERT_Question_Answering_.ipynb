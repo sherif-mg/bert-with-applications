{
  "nbformat": 4,
  "nbformat_minor": 0,
  "metadata": {
    "colab": {
      "provenance": [],
      "collapsed_sections": []
    },
    "kernelspec": {
      "name": "python3",
      "display_name": "Python 3"
    },
    "language_info": {
      "name": "python"
    },
    "widgets": {
      "application/vnd.jupyter.widget-state+json": {
        "36caa2f12545484b9e1ef6f6bc3cb54f": {
          "model_module": "@jupyter-widgets/controls",
          "model_name": "HBoxModel",
          "model_module_version": "1.5.0",
          "state": {
            "_dom_classes": [],
            "_model_module": "@jupyter-widgets/controls",
            "_model_module_version": "1.5.0",
            "_model_name": "HBoxModel",
            "_view_count": null,
            "_view_module": "@jupyter-widgets/controls",
            "_view_module_version": "1.5.0",
            "_view_name": "HBoxView",
            "box_style": "",
            "children": [
              "IPY_MODEL_743b89803d574de2b267b69e50caf4d2",
              "IPY_MODEL_2f08d6e549894133a3c2c76d48f92343",
              "IPY_MODEL_35c21ec4917343aeb8802ed0cf6dc440"
            ],
            "layout": "IPY_MODEL_b9bddff1c5f741d79492b46eb064bc02"
          }
        },
        "743b89803d574de2b267b69e50caf4d2": {
          "model_module": "@jupyter-widgets/controls",
          "model_name": "HTMLModel",
          "model_module_version": "1.5.0",
          "state": {
            "_dom_classes": [],
            "_model_module": "@jupyter-widgets/controls",
            "_model_module_version": "1.5.0",
            "_model_name": "HTMLModel",
            "_view_count": null,
            "_view_module": "@jupyter-widgets/controls",
            "_view_module_version": "1.5.0",
            "_view_name": "HTMLView",
            "description": "",
            "description_tooltip": null,
            "layout": "IPY_MODEL_2bf7584941354aecae64e011f93991cb",
            "placeholder": "​",
            "style": "IPY_MODEL_8dda446c0fec47eb9417544d5b65d08e",
            "value": "Downloading: 100%"
          }
        },
        "2f08d6e549894133a3c2c76d48f92343": {
          "model_module": "@jupyter-widgets/controls",
          "model_name": "FloatProgressModel",
          "model_module_version": "1.5.0",
          "state": {
            "_dom_classes": [],
            "_model_module": "@jupyter-widgets/controls",
            "_model_module_version": "1.5.0",
            "_model_name": "FloatProgressModel",
            "_view_count": null,
            "_view_module": "@jupyter-widgets/controls",
            "_view_module_version": "1.5.0",
            "_view_name": "ProgressView",
            "bar_style": "success",
            "description": "",
            "description_tooltip": null,
            "layout": "IPY_MODEL_f080393898f8411daec9dfbcb285594c",
            "max": 443,
            "min": 0,
            "orientation": "horizontal",
            "style": "IPY_MODEL_ffeb1743047c43288dabfb7074c6b749",
            "value": 443
          }
        },
        "35c21ec4917343aeb8802ed0cf6dc440": {
          "model_module": "@jupyter-widgets/controls",
          "model_name": "HTMLModel",
          "model_module_version": "1.5.0",
          "state": {
            "_dom_classes": [],
            "_model_module": "@jupyter-widgets/controls",
            "_model_module_version": "1.5.0",
            "_model_name": "HTMLModel",
            "_view_count": null,
            "_view_module": "@jupyter-widgets/controls",
            "_view_module_version": "1.5.0",
            "_view_name": "HTMLView",
            "description": "",
            "description_tooltip": null,
            "layout": "IPY_MODEL_1b50bcf5e2ab4a1dae6900ae2891df28",
            "placeholder": "​",
            "style": "IPY_MODEL_5b764f0525324b299ef31f09985b9af9",
            "value": " 443/443 [00:00&lt;00:00, 3.39kB/s]"
          }
        },
        "b9bddff1c5f741d79492b46eb064bc02": {
          "model_module": "@jupyter-widgets/base",
          "model_name": "LayoutModel",
          "model_module_version": "1.2.0",
          "state": {
            "_model_module": "@jupyter-widgets/base",
            "_model_module_version": "1.2.0",
            "_model_name": "LayoutModel",
            "_view_count": null,
            "_view_module": "@jupyter-widgets/base",
            "_view_module_version": "1.2.0",
            "_view_name": "LayoutView",
            "align_content": null,
            "align_items": null,
            "align_self": null,
            "border": null,
            "bottom": null,
            "display": null,
            "flex": null,
            "flex_flow": null,
            "grid_area": null,
            "grid_auto_columns": null,
            "grid_auto_flow": null,
            "grid_auto_rows": null,
            "grid_column": null,
            "grid_gap": null,
            "grid_row": null,
            "grid_template_areas": null,
            "grid_template_columns": null,
            "grid_template_rows": null,
            "height": null,
            "justify_content": null,
            "justify_items": null,
            "left": null,
            "margin": null,
            "max_height": null,
            "max_width": null,
            "min_height": null,
            "min_width": null,
            "object_fit": null,
            "object_position": null,
            "order": null,
            "overflow": null,
            "overflow_x": null,
            "overflow_y": null,
            "padding": null,
            "right": null,
            "top": null,
            "visibility": null,
            "width": null
          }
        },
        "2bf7584941354aecae64e011f93991cb": {
          "model_module": "@jupyter-widgets/base",
          "model_name": "LayoutModel",
          "model_module_version": "1.2.0",
          "state": {
            "_model_module": "@jupyter-widgets/base",
            "_model_module_version": "1.2.0",
            "_model_name": "LayoutModel",
            "_view_count": null,
            "_view_module": "@jupyter-widgets/base",
            "_view_module_version": "1.2.0",
            "_view_name": "LayoutView",
            "align_content": null,
            "align_items": null,
            "align_self": null,
            "border": null,
            "bottom": null,
            "display": null,
            "flex": null,
            "flex_flow": null,
            "grid_area": null,
            "grid_auto_columns": null,
            "grid_auto_flow": null,
            "grid_auto_rows": null,
            "grid_column": null,
            "grid_gap": null,
            "grid_row": null,
            "grid_template_areas": null,
            "grid_template_columns": null,
            "grid_template_rows": null,
            "height": null,
            "justify_content": null,
            "justify_items": null,
            "left": null,
            "margin": null,
            "max_height": null,
            "max_width": null,
            "min_height": null,
            "min_width": null,
            "object_fit": null,
            "object_position": null,
            "order": null,
            "overflow": null,
            "overflow_x": null,
            "overflow_y": null,
            "padding": null,
            "right": null,
            "top": null,
            "visibility": null,
            "width": null
          }
        },
        "8dda446c0fec47eb9417544d5b65d08e": {
          "model_module": "@jupyter-widgets/controls",
          "model_name": "DescriptionStyleModel",
          "model_module_version": "1.5.0",
          "state": {
            "_model_module": "@jupyter-widgets/controls",
            "_model_module_version": "1.5.0",
            "_model_name": "DescriptionStyleModel",
            "_view_count": null,
            "_view_module": "@jupyter-widgets/base",
            "_view_module_version": "1.2.0",
            "_view_name": "StyleView",
            "description_width": ""
          }
        },
        "f080393898f8411daec9dfbcb285594c": {
          "model_module": "@jupyter-widgets/base",
          "model_name": "LayoutModel",
          "model_module_version": "1.2.0",
          "state": {
            "_model_module": "@jupyter-widgets/base",
            "_model_module_version": "1.2.0",
            "_model_name": "LayoutModel",
            "_view_count": null,
            "_view_module": "@jupyter-widgets/base",
            "_view_module_version": "1.2.0",
            "_view_name": "LayoutView",
            "align_content": null,
            "align_items": null,
            "align_self": null,
            "border": null,
            "bottom": null,
            "display": null,
            "flex": null,
            "flex_flow": null,
            "grid_area": null,
            "grid_auto_columns": null,
            "grid_auto_flow": null,
            "grid_auto_rows": null,
            "grid_column": null,
            "grid_gap": null,
            "grid_row": null,
            "grid_template_areas": null,
            "grid_template_columns": null,
            "grid_template_rows": null,
            "height": null,
            "justify_content": null,
            "justify_items": null,
            "left": null,
            "margin": null,
            "max_height": null,
            "max_width": null,
            "min_height": null,
            "min_width": null,
            "object_fit": null,
            "object_position": null,
            "order": null,
            "overflow": null,
            "overflow_x": null,
            "overflow_y": null,
            "padding": null,
            "right": null,
            "top": null,
            "visibility": null,
            "width": null
          }
        },
        "ffeb1743047c43288dabfb7074c6b749": {
          "model_module": "@jupyter-widgets/controls",
          "model_name": "ProgressStyleModel",
          "model_module_version": "1.5.0",
          "state": {
            "_model_module": "@jupyter-widgets/controls",
            "_model_module_version": "1.5.0",
            "_model_name": "ProgressStyleModel",
            "_view_count": null,
            "_view_module": "@jupyter-widgets/base",
            "_view_module_version": "1.2.0",
            "_view_name": "StyleView",
            "bar_color": null,
            "description_width": ""
          }
        },
        "1b50bcf5e2ab4a1dae6900ae2891df28": {
          "model_module": "@jupyter-widgets/base",
          "model_name": "LayoutModel",
          "model_module_version": "1.2.0",
          "state": {
            "_model_module": "@jupyter-widgets/base",
            "_model_module_version": "1.2.0",
            "_model_name": "LayoutModel",
            "_view_count": null,
            "_view_module": "@jupyter-widgets/base",
            "_view_module_version": "1.2.0",
            "_view_name": "LayoutView",
            "align_content": null,
            "align_items": null,
            "align_self": null,
            "border": null,
            "bottom": null,
            "display": null,
            "flex": null,
            "flex_flow": null,
            "grid_area": null,
            "grid_auto_columns": null,
            "grid_auto_flow": null,
            "grid_auto_rows": null,
            "grid_column": null,
            "grid_gap": null,
            "grid_row": null,
            "grid_template_areas": null,
            "grid_template_columns": null,
            "grid_template_rows": null,
            "height": null,
            "justify_content": null,
            "justify_items": null,
            "left": null,
            "margin": null,
            "max_height": null,
            "max_width": null,
            "min_height": null,
            "min_width": null,
            "object_fit": null,
            "object_position": null,
            "order": null,
            "overflow": null,
            "overflow_x": null,
            "overflow_y": null,
            "padding": null,
            "right": null,
            "top": null,
            "visibility": null,
            "width": null
          }
        },
        "5b764f0525324b299ef31f09985b9af9": {
          "model_module": "@jupyter-widgets/controls",
          "model_name": "DescriptionStyleModel",
          "model_module_version": "1.5.0",
          "state": {
            "_model_module": "@jupyter-widgets/controls",
            "_model_module_version": "1.5.0",
            "_model_name": "DescriptionStyleModel",
            "_view_count": null,
            "_view_module": "@jupyter-widgets/base",
            "_view_module_version": "1.2.0",
            "_view_name": "StyleView",
            "description_width": ""
          }
        },
        "adc036b7e036406b96265c814478759a": {
          "model_module": "@jupyter-widgets/controls",
          "model_name": "HBoxModel",
          "model_module_version": "1.5.0",
          "state": {
            "_dom_classes": [],
            "_model_module": "@jupyter-widgets/controls",
            "_model_module_version": "1.5.0",
            "_model_name": "HBoxModel",
            "_view_count": null,
            "_view_module": "@jupyter-widgets/controls",
            "_view_module_version": "1.5.0",
            "_view_name": "HBoxView",
            "box_style": "",
            "children": [
              "IPY_MODEL_2a8ad21702b14141bd2faa667aa9aa24",
              "IPY_MODEL_1b68c6323ca94c7883f1005e74437a1a",
              "IPY_MODEL_0248a512fd7c4237afa3ef451005e970"
            ],
            "layout": "IPY_MODEL_255b075b09494fa2ad6b5296485396ad"
          }
        },
        "2a8ad21702b14141bd2faa667aa9aa24": {
          "model_module": "@jupyter-widgets/controls",
          "model_name": "HTMLModel",
          "model_module_version": "1.5.0",
          "state": {
            "_dom_classes": [],
            "_model_module": "@jupyter-widgets/controls",
            "_model_module_version": "1.5.0",
            "_model_name": "HTMLModel",
            "_view_count": null,
            "_view_module": "@jupyter-widgets/controls",
            "_view_module_version": "1.5.0",
            "_view_name": "HTMLView",
            "description": "",
            "description_tooltip": null,
            "layout": "IPY_MODEL_e284d5860fa04b409b33f079325a2d71",
            "placeholder": "​",
            "style": "IPY_MODEL_c07b2e82957643b9b39620cfe9600286",
            "value": "Downloading: 100%"
          }
        },
        "1b68c6323ca94c7883f1005e74437a1a": {
          "model_module": "@jupyter-widgets/controls",
          "model_name": "FloatProgressModel",
          "model_module_version": "1.5.0",
          "state": {
            "_dom_classes": [],
            "_model_module": "@jupyter-widgets/controls",
            "_model_module_version": "1.5.0",
            "_model_name": "FloatProgressModel",
            "_view_count": null,
            "_view_module": "@jupyter-widgets/controls",
            "_view_module_version": "1.5.0",
            "_view_name": "ProgressView",
            "bar_style": "success",
            "description": "",
            "description_tooltip": null,
            "layout": "IPY_MODEL_4ab5719030b54d99b72b3fad97c59baa",
            "max": 1340675298,
            "min": 0,
            "orientation": "horizontal",
            "style": "IPY_MODEL_a5740b05ed4a440ab5da2b74b5bef7cb",
            "value": 1340675298
          }
        },
        "0248a512fd7c4237afa3ef451005e970": {
          "model_module": "@jupyter-widgets/controls",
          "model_name": "HTMLModel",
          "model_module_version": "1.5.0",
          "state": {
            "_dom_classes": [],
            "_model_module": "@jupyter-widgets/controls",
            "_model_module_version": "1.5.0",
            "_model_name": "HTMLModel",
            "_view_count": null,
            "_view_module": "@jupyter-widgets/controls",
            "_view_module_version": "1.5.0",
            "_view_name": "HTMLView",
            "description": "",
            "description_tooltip": null,
            "layout": "IPY_MODEL_76d84627545340e4b88c425541597958",
            "placeholder": "​",
            "style": "IPY_MODEL_bd28b05d9b2b4054b937269a7be9bfcb",
            "value": " 1.34G/1.34G [00:39&lt;00:00, 47.6MB/s]"
          }
        },
        "255b075b09494fa2ad6b5296485396ad": {
          "model_module": "@jupyter-widgets/base",
          "model_name": "LayoutModel",
          "model_module_version": "1.2.0",
          "state": {
            "_model_module": "@jupyter-widgets/base",
            "_model_module_version": "1.2.0",
            "_model_name": "LayoutModel",
            "_view_count": null,
            "_view_module": "@jupyter-widgets/base",
            "_view_module_version": "1.2.0",
            "_view_name": "LayoutView",
            "align_content": null,
            "align_items": null,
            "align_self": null,
            "border": null,
            "bottom": null,
            "display": null,
            "flex": null,
            "flex_flow": null,
            "grid_area": null,
            "grid_auto_columns": null,
            "grid_auto_flow": null,
            "grid_auto_rows": null,
            "grid_column": null,
            "grid_gap": null,
            "grid_row": null,
            "grid_template_areas": null,
            "grid_template_columns": null,
            "grid_template_rows": null,
            "height": null,
            "justify_content": null,
            "justify_items": null,
            "left": null,
            "margin": null,
            "max_height": null,
            "max_width": null,
            "min_height": null,
            "min_width": null,
            "object_fit": null,
            "object_position": null,
            "order": null,
            "overflow": null,
            "overflow_x": null,
            "overflow_y": null,
            "padding": null,
            "right": null,
            "top": null,
            "visibility": null,
            "width": null
          }
        },
        "e284d5860fa04b409b33f079325a2d71": {
          "model_module": "@jupyter-widgets/base",
          "model_name": "LayoutModel",
          "model_module_version": "1.2.0",
          "state": {
            "_model_module": "@jupyter-widgets/base",
            "_model_module_version": "1.2.0",
            "_model_name": "LayoutModel",
            "_view_count": null,
            "_view_module": "@jupyter-widgets/base",
            "_view_module_version": "1.2.0",
            "_view_name": "LayoutView",
            "align_content": null,
            "align_items": null,
            "align_self": null,
            "border": null,
            "bottom": null,
            "display": null,
            "flex": null,
            "flex_flow": null,
            "grid_area": null,
            "grid_auto_columns": null,
            "grid_auto_flow": null,
            "grid_auto_rows": null,
            "grid_column": null,
            "grid_gap": null,
            "grid_row": null,
            "grid_template_areas": null,
            "grid_template_columns": null,
            "grid_template_rows": null,
            "height": null,
            "justify_content": null,
            "justify_items": null,
            "left": null,
            "margin": null,
            "max_height": null,
            "max_width": null,
            "min_height": null,
            "min_width": null,
            "object_fit": null,
            "object_position": null,
            "order": null,
            "overflow": null,
            "overflow_x": null,
            "overflow_y": null,
            "padding": null,
            "right": null,
            "top": null,
            "visibility": null,
            "width": null
          }
        },
        "c07b2e82957643b9b39620cfe9600286": {
          "model_module": "@jupyter-widgets/controls",
          "model_name": "DescriptionStyleModel",
          "model_module_version": "1.5.0",
          "state": {
            "_model_module": "@jupyter-widgets/controls",
            "_model_module_version": "1.5.0",
            "_model_name": "DescriptionStyleModel",
            "_view_count": null,
            "_view_module": "@jupyter-widgets/base",
            "_view_module_version": "1.2.0",
            "_view_name": "StyleView",
            "description_width": ""
          }
        },
        "4ab5719030b54d99b72b3fad97c59baa": {
          "model_module": "@jupyter-widgets/base",
          "model_name": "LayoutModel",
          "model_module_version": "1.2.0",
          "state": {
            "_model_module": "@jupyter-widgets/base",
            "_model_module_version": "1.2.0",
            "_model_name": "LayoutModel",
            "_view_count": null,
            "_view_module": "@jupyter-widgets/base",
            "_view_module_version": "1.2.0",
            "_view_name": "LayoutView",
            "align_content": null,
            "align_items": null,
            "align_self": null,
            "border": null,
            "bottom": null,
            "display": null,
            "flex": null,
            "flex_flow": null,
            "grid_area": null,
            "grid_auto_columns": null,
            "grid_auto_flow": null,
            "grid_auto_rows": null,
            "grid_column": null,
            "grid_gap": null,
            "grid_row": null,
            "grid_template_areas": null,
            "grid_template_columns": null,
            "grid_template_rows": null,
            "height": null,
            "justify_content": null,
            "justify_items": null,
            "left": null,
            "margin": null,
            "max_height": null,
            "max_width": null,
            "min_height": null,
            "min_width": null,
            "object_fit": null,
            "object_position": null,
            "order": null,
            "overflow": null,
            "overflow_x": null,
            "overflow_y": null,
            "padding": null,
            "right": null,
            "top": null,
            "visibility": null,
            "width": null
          }
        },
        "a5740b05ed4a440ab5da2b74b5bef7cb": {
          "model_module": "@jupyter-widgets/controls",
          "model_name": "ProgressStyleModel",
          "model_module_version": "1.5.0",
          "state": {
            "_model_module": "@jupyter-widgets/controls",
            "_model_module_version": "1.5.0",
            "_model_name": "ProgressStyleModel",
            "_view_count": null,
            "_view_module": "@jupyter-widgets/base",
            "_view_module_version": "1.2.0",
            "_view_name": "StyleView",
            "bar_color": null,
            "description_width": ""
          }
        },
        "76d84627545340e4b88c425541597958": {
          "model_module": "@jupyter-widgets/base",
          "model_name": "LayoutModel",
          "model_module_version": "1.2.0",
          "state": {
            "_model_module": "@jupyter-widgets/base",
            "_model_module_version": "1.2.0",
            "_model_name": "LayoutModel",
            "_view_count": null,
            "_view_module": "@jupyter-widgets/base",
            "_view_module_version": "1.2.0",
            "_view_name": "LayoutView",
            "align_content": null,
            "align_items": null,
            "align_self": null,
            "border": null,
            "bottom": null,
            "display": null,
            "flex": null,
            "flex_flow": null,
            "grid_area": null,
            "grid_auto_columns": null,
            "grid_auto_flow": null,
            "grid_auto_rows": null,
            "grid_column": null,
            "grid_gap": null,
            "grid_row": null,
            "grid_template_areas": null,
            "grid_template_columns": null,
            "grid_template_rows": null,
            "height": null,
            "justify_content": null,
            "justify_items": null,
            "left": null,
            "margin": null,
            "max_height": null,
            "max_width": null,
            "min_height": null,
            "min_width": null,
            "object_fit": null,
            "object_position": null,
            "order": null,
            "overflow": null,
            "overflow_x": null,
            "overflow_y": null,
            "padding": null,
            "right": null,
            "top": null,
            "visibility": null,
            "width": null
          }
        },
        "bd28b05d9b2b4054b937269a7be9bfcb": {
          "model_module": "@jupyter-widgets/controls",
          "model_name": "DescriptionStyleModel",
          "model_module_version": "1.5.0",
          "state": {
            "_model_module": "@jupyter-widgets/controls",
            "_model_module_version": "1.5.0",
            "_model_name": "DescriptionStyleModel",
            "_view_count": null,
            "_view_module": "@jupyter-widgets/base",
            "_view_module_version": "1.2.0",
            "_view_name": "StyleView",
            "description_width": ""
          }
        },
        "4dbe042fc3e74cba952c7c49726a917e": {
          "model_module": "@jupyter-widgets/controls",
          "model_name": "HBoxModel",
          "model_module_version": "1.5.0",
          "state": {
            "_dom_classes": [],
            "_model_module": "@jupyter-widgets/controls",
            "_model_module_version": "1.5.0",
            "_model_name": "HBoxModel",
            "_view_count": null,
            "_view_module": "@jupyter-widgets/controls",
            "_view_module_version": "1.5.0",
            "_view_name": "HBoxView",
            "box_style": "",
            "children": [
              "IPY_MODEL_5fd8766beb4a4a9f9e9831db45cd6362",
              "IPY_MODEL_c625501349c642e59a25a0c150bb80f5",
              "IPY_MODEL_8ad29b6d003c461bb7e80801f96021ad"
            ],
            "layout": "IPY_MODEL_6cbe097dbfc845fa8102229daadbbe4f"
          }
        },
        "5fd8766beb4a4a9f9e9831db45cd6362": {
          "model_module": "@jupyter-widgets/controls",
          "model_name": "HTMLModel",
          "model_module_version": "1.5.0",
          "state": {
            "_dom_classes": [],
            "_model_module": "@jupyter-widgets/controls",
            "_model_module_version": "1.5.0",
            "_model_name": "HTMLModel",
            "_view_count": null,
            "_view_module": "@jupyter-widgets/controls",
            "_view_module_version": "1.5.0",
            "_view_name": "HTMLView",
            "description": "",
            "description_tooltip": null,
            "layout": "IPY_MODEL_cdb4a10669504fea80dfdf80ea39a778",
            "placeholder": "​",
            "style": "IPY_MODEL_d8b077b3926140949fa955ee347bf623",
            "value": "Downloading: 100%"
          }
        },
        "c625501349c642e59a25a0c150bb80f5": {
          "model_module": "@jupyter-widgets/controls",
          "model_name": "FloatProgressModel",
          "model_module_version": "1.5.0",
          "state": {
            "_dom_classes": [],
            "_model_module": "@jupyter-widgets/controls",
            "_model_module_version": "1.5.0",
            "_model_name": "FloatProgressModel",
            "_view_count": null,
            "_view_module": "@jupyter-widgets/controls",
            "_view_module_version": "1.5.0",
            "_view_name": "ProgressView",
            "bar_style": "success",
            "description": "",
            "description_tooltip": null,
            "layout": "IPY_MODEL_3705c4ed79264a43b8a55b664d64ffda",
            "max": 231508,
            "min": 0,
            "orientation": "horizontal",
            "style": "IPY_MODEL_130510196a0546649d30c4dbc151723a",
            "value": 231508
          }
        },
        "8ad29b6d003c461bb7e80801f96021ad": {
          "model_module": "@jupyter-widgets/controls",
          "model_name": "HTMLModel",
          "model_module_version": "1.5.0",
          "state": {
            "_dom_classes": [],
            "_model_module": "@jupyter-widgets/controls",
            "_model_module_version": "1.5.0",
            "_model_name": "HTMLModel",
            "_view_count": null,
            "_view_module": "@jupyter-widgets/controls",
            "_view_module_version": "1.5.0",
            "_view_name": "HTMLView",
            "description": "",
            "description_tooltip": null,
            "layout": "IPY_MODEL_07139b18e92742968d2ccf3f6f98d7b7",
            "placeholder": "​",
            "style": "IPY_MODEL_d528e531353a4e33b966280b7450f7bc",
            "value": " 232k/232k [00:00&lt;00:00, 4.77MB/s]"
          }
        },
        "6cbe097dbfc845fa8102229daadbbe4f": {
          "model_module": "@jupyter-widgets/base",
          "model_name": "LayoutModel",
          "model_module_version": "1.2.0",
          "state": {
            "_model_module": "@jupyter-widgets/base",
            "_model_module_version": "1.2.0",
            "_model_name": "LayoutModel",
            "_view_count": null,
            "_view_module": "@jupyter-widgets/base",
            "_view_module_version": "1.2.0",
            "_view_name": "LayoutView",
            "align_content": null,
            "align_items": null,
            "align_self": null,
            "border": null,
            "bottom": null,
            "display": null,
            "flex": null,
            "flex_flow": null,
            "grid_area": null,
            "grid_auto_columns": null,
            "grid_auto_flow": null,
            "grid_auto_rows": null,
            "grid_column": null,
            "grid_gap": null,
            "grid_row": null,
            "grid_template_areas": null,
            "grid_template_columns": null,
            "grid_template_rows": null,
            "height": null,
            "justify_content": null,
            "justify_items": null,
            "left": null,
            "margin": null,
            "max_height": null,
            "max_width": null,
            "min_height": null,
            "min_width": null,
            "object_fit": null,
            "object_position": null,
            "order": null,
            "overflow": null,
            "overflow_x": null,
            "overflow_y": null,
            "padding": null,
            "right": null,
            "top": null,
            "visibility": null,
            "width": null
          }
        },
        "cdb4a10669504fea80dfdf80ea39a778": {
          "model_module": "@jupyter-widgets/base",
          "model_name": "LayoutModel",
          "model_module_version": "1.2.0",
          "state": {
            "_model_module": "@jupyter-widgets/base",
            "_model_module_version": "1.2.0",
            "_model_name": "LayoutModel",
            "_view_count": null,
            "_view_module": "@jupyter-widgets/base",
            "_view_module_version": "1.2.0",
            "_view_name": "LayoutView",
            "align_content": null,
            "align_items": null,
            "align_self": null,
            "border": null,
            "bottom": null,
            "display": null,
            "flex": null,
            "flex_flow": null,
            "grid_area": null,
            "grid_auto_columns": null,
            "grid_auto_flow": null,
            "grid_auto_rows": null,
            "grid_column": null,
            "grid_gap": null,
            "grid_row": null,
            "grid_template_areas": null,
            "grid_template_columns": null,
            "grid_template_rows": null,
            "height": null,
            "justify_content": null,
            "justify_items": null,
            "left": null,
            "margin": null,
            "max_height": null,
            "max_width": null,
            "min_height": null,
            "min_width": null,
            "object_fit": null,
            "object_position": null,
            "order": null,
            "overflow": null,
            "overflow_x": null,
            "overflow_y": null,
            "padding": null,
            "right": null,
            "top": null,
            "visibility": null,
            "width": null
          }
        },
        "d8b077b3926140949fa955ee347bf623": {
          "model_module": "@jupyter-widgets/controls",
          "model_name": "DescriptionStyleModel",
          "model_module_version": "1.5.0",
          "state": {
            "_model_module": "@jupyter-widgets/controls",
            "_model_module_version": "1.5.0",
            "_model_name": "DescriptionStyleModel",
            "_view_count": null,
            "_view_module": "@jupyter-widgets/base",
            "_view_module_version": "1.2.0",
            "_view_name": "StyleView",
            "description_width": ""
          }
        },
        "3705c4ed79264a43b8a55b664d64ffda": {
          "model_module": "@jupyter-widgets/base",
          "model_name": "LayoutModel",
          "model_module_version": "1.2.0",
          "state": {
            "_model_module": "@jupyter-widgets/base",
            "_model_module_version": "1.2.0",
            "_model_name": "LayoutModel",
            "_view_count": null,
            "_view_module": "@jupyter-widgets/base",
            "_view_module_version": "1.2.0",
            "_view_name": "LayoutView",
            "align_content": null,
            "align_items": null,
            "align_self": null,
            "border": null,
            "bottom": null,
            "display": null,
            "flex": null,
            "flex_flow": null,
            "grid_area": null,
            "grid_auto_columns": null,
            "grid_auto_flow": null,
            "grid_auto_rows": null,
            "grid_column": null,
            "grid_gap": null,
            "grid_row": null,
            "grid_template_areas": null,
            "grid_template_columns": null,
            "grid_template_rows": null,
            "height": null,
            "justify_content": null,
            "justify_items": null,
            "left": null,
            "margin": null,
            "max_height": null,
            "max_width": null,
            "min_height": null,
            "min_width": null,
            "object_fit": null,
            "object_position": null,
            "order": null,
            "overflow": null,
            "overflow_x": null,
            "overflow_y": null,
            "padding": null,
            "right": null,
            "top": null,
            "visibility": null,
            "width": null
          }
        },
        "130510196a0546649d30c4dbc151723a": {
          "model_module": "@jupyter-widgets/controls",
          "model_name": "ProgressStyleModel",
          "model_module_version": "1.5.0",
          "state": {
            "_model_module": "@jupyter-widgets/controls",
            "_model_module_version": "1.5.0",
            "_model_name": "ProgressStyleModel",
            "_view_count": null,
            "_view_module": "@jupyter-widgets/base",
            "_view_module_version": "1.2.0",
            "_view_name": "StyleView",
            "bar_color": null,
            "description_width": ""
          }
        },
        "07139b18e92742968d2ccf3f6f98d7b7": {
          "model_module": "@jupyter-widgets/base",
          "model_name": "LayoutModel",
          "model_module_version": "1.2.0",
          "state": {
            "_model_module": "@jupyter-widgets/base",
            "_model_module_version": "1.2.0",
            "_model_name": "LayoutModel",
            "_view_count": null,
            "_view_module": "@jupyter-widgets/base",
            "_view_module_version": "1.2.0",
            "_view_name": "LayoutView",
            "align_content": null,
            "align_items": null,
            "align_self": null,
            "border": null,
            "bottom": null,
            "display": null,
            "flex": null,
            "flex_flow": null,
            "grid_area": null,
            "grid_auto_columns": null,
            "grid_auto_flow": null,
            "grid_auto_rows": null,
            "grid_column": null,
            "grid_gap": null,
            "grid_row": null,
            "grid_template_areas": null,
            "grid_template_columns": null,
            "grid_template_rows": null,
            "height": null,
            "justify_content": null,
            "justify_items": null,
            "left": null,
            "margin": null,
            "max_height": null,
            "max_width": null,
            "min_height": null,
            "min_width": null,
            "object_fit": null,
            "object_position": null,
            "order": null,
            "overflow": null,
            "overflow_x": null,
            "overflow_y": null,
            "padding": null,
            "right": null,
            "top": null,
            "visibility": null,
            "width": null
          }
        },
        "d528e531353a4e33b966280b7450f7bc": {
          "model_module": "@jupyter-widgets/controls",
          "model_name": "DescriptionStyleModel",
          "model_module_version": "1.5.0",
          "state": {
            "_model_module": "@jupyter-widgets/controls",
            "_model_module_version": "1.5.0",
            "_model_name": "DescriptionStyleModel",
            "_view_count": null,
            "_view_module": "@jupyter-widgets/base",
            "_view_module_version": "1.2.0",
            "_view_name": "StyleView",
            "description_width": ""
          }
        },
        "6ec03895b25844e290284d42852c9bda": {
          "model_module": "@jupyter-widgets/controls",
          "model_name": "HBoxModel",
          "model_module_version": "1.5.0",
          "state": {
            "_dom_classes": [],
            "_model_module": "@jupyter-widgets/controls",
            "_model_module_version": "1.5.0",
            "_model_name": "HBoxModel",
            "_view_count": null,
            "_view_module": "@jupyter-widgets/controls",
            "_view_module_version": "1.5.0",
            "_view_name": "HBoxView",
            "box_style": "",
            "children": [
              "IPY_MODEL_7330c15a6b944235a316a98259718799",
              "IPY_MODEL_1a80f8b09fc44fda852c01d8dcb84977",
              "IPY_MODEL_1966de45eb9649aa8be61a1ad7683e25"
            ],
            "layout": "IPY_MODEL_991540e1e40e4a40a69b4b6d074d620f"
          }
        },
        "7330c15a6b944235a316a98259718799": {
          "model_module": "@jupyter-widgets/controls",
          "model_name": "HTMLModel",
          "model_module_version": "1.5.0",
          "state": {
            "_dom_classes": [],
            "_model_module": "@jupyter-widgets/controls",
            "_model_module_version": "1.5.0",
            "_model_name": "HTMLModel",
            "_view_count": null,
            "_view_module": "@jupyter-widgets/controls",
            "_view_module_version": "1.5.0",
            "_view_name": "HTMLView",
            "description": "",
            "description_tooltip": null,
            "layout": "IPY_MODEL_af728493b39a4fd88d9e932ecbc48345",
            "placeholder": "​",
            "style": "IPY_MODEL_fd083f39d0f8471cbadb1cdac44099cb",
            "value": "Downloading: 100%"
          }
        },
        "1a80f8b09fc44fda852c01d8dcb84977": {
          "model_module": "@jupyter-widgets/controls",
          "model_name": "FloatProgressModel",
          "model_module_version": "1.5.0",
          "state": {
            "_dom_classes": [],
            "_model_module": "@jupyter-widgets/controls",
            "_model_module_version": "1.5.0",
            "_model_name": "FloatProgressModel",
            "_view_count": null,
            "_view_module": "@jupyter-widgets/controls",
            "_view_module_version": "1.5.0",
            "_view_name": "ProgressView",
            "bar_style": "success",
            "description": "",
            "description_tooltip": null,
            "layout": "IPY_MODEL_765b1b0d0a9b4a2b93a6188be747b97e",
            "max": 28,
            "min": 0,
            "orientation": "horizontal",
            "style": "IPY_MODEL_682f26bff4614779ae1244d57db2102a",
            "value": 28
          }
        },
        "1966de45eb9649aa8be61a1ad7683e25": {
          "model_module": "@jupyter-widgets/controls",
          "model_name": "HTMLModel",
          "model_module_version": "1.5.0",
          "state": {
            "_dom_classes": [],
            "_model_module": "@jupyter-widgets/controls",
            "_model_module_version": "1.5.0",
            "_model_name": "HTMLModel",
            "_view_count": null,
            "_view_module": "@jupyter-widgets/controls",
            "_view_module_version": "1.5.0",
            "_view_name": "HTMLView",
            "description": "",
            "description_tooltip": null,
            "layout": "IPY_MODEL_c45e86e1803c4985ae0aaccfa04d120b",
            "placeholder": "​",
            "style": "IPY_MODEL_36229302c89844d897e8b919337ee337",
            "value": " 28.0/28.0 [00:00&lt;00:00, 763B/s]"
          }
        },
        "991540e1e40e4a40a69b4b6d074d620f": {
          "model_module": "@jupyter-widgets/base",
          "model_name": "LayoutModel",
          "model_module_version": "1.2.0",
          "state": {
            "_model_module": "@jupyter-widgets/base",
            "_model_module_version": "1.2.0",
            "_model_name": "LayoutModel",
            "_view_count": null,
            "_view_module": "@jupyter-widgets/base",
            "_view_module_version": "1.2.0",
            "_view_name": "LayoutView",
            "align_content": null,
            "align_items": null,
            "align_self": null,
            "border": null,
            "bottom": null,
            "display": null,
            "flex": null,
            "flex_flow": null,
            "grid_area": null,
            "grid_auto_columns": null,
            "grid_auto_flow": null,
            "grid_auto_rows": null,
            "grid_column": null,
            "grid_gap": null,
            "grid_row": null,
            "grid_template_areas": null,
            "grid_template_columns": null,
            "grid_template_rows": null,
            "height": null,
            "justify_content": null,
            "justify_items": null,
            "left": null,
            "margin": null,
            "max_height": null,
            "max_width": null,
            "min_height": null,
            "min_width": null,
            "object_fit": null,
            "object_position": null,
            "order": null,
            "overflow": null,
            "overflow_x": null,
            "overflow_y": null,
            "padding": null,
            "right": null,
            "top": null,
            "visibility": null,
            "width": null
          }
        },
        "af728493b39a4fd88d9e932ecbc48345": {
          "model_module": "@jupyter-widgets/base",
          "model_name": "LayoutModel",
          "model_module_version": "1.2.0",
          "state": {
            "_model_module": "@jupyter-widgets/base",
            "_model_module_version": "1.2.0",
            "_model_name": "LayoutModel",
            "_view_count": null,
            "_view_module": "@jupyter-widgets/base",
            "_view_module_version": "1.2.0",
            "_view_name": "LayoutView",
            "align_content": null,
            "align_items": null,
            "align_self": null,
            "border": null,
            "bottom": null,
            "display": null,
            "flex": null,
            "flex_flow": null,
            "grid_area": null,
            "grid_auto_columns": null,
            "grid_auto_flow": null,
            "grid_auto_rows": null,
            "grid_column": null,
            "grid_gap": null,
            "grid_row": null,
            "grid_template_areas": null,
            "grid_template_columns": null,
            "grid_template_rows": null,
            "height": null,
            "justify_content": null,
            "justify_items": null,
            "left": null,
            "margin": null,
            "max_height": null,
            "max_width": null,
            "min_height": null,
            "min_width": null,
            "object_fit": null,
            "object_position": null,
            "order": null,
            "overflow": null,
            "overflow_x": null,
            "overflow_y": null,
            "padding": null,
            "right": null,
            "top": null,
            "visibility": null,
            "width": null
          }
        },
        "fd083f39d0f8471cbadb1cdac44099cb": {
          "model_module": "@jupyter-widgets/controls",
          "model_name": "DescriptionStyleModel",
          "model_module_version": "1.5.0",
          "state": {
            "_model_module": "@jupyter-widgets/controls",
            "_model_module_version": "1.5.0",
            "_model_name": "DescriptionStyleModel",
            "_view_count": null,
            "_view_module": "@jupyter-widgets/base",
            "_view_module_version": "1.2.0",
            "_view_name": "StyleView",
            "description_width": ""
          }
        },
        "765b1b0d0a9b4a2b93a6188be747b97e": {
          "model_module": "@jupyter-widgets/base",
          "model_name": "LayoutModel",
          "model_module_version": "1.2.0",
          "state": {
            "_model_module": "@jupyter-widgets/base",
            "_model_module_version": "1.2.0",
            "_model_name": "LayoutModel",
            "_view_count": null,
            "_view_module": "@jupyter-widgets/base",
            "_view_module_version": "1.2.0",
            "_view_name": "LayoutView",
            "align_content": null,
            "align_items": null,
            "align_self": null,
            "border": null,
            "bottom": null,
            "display": null,
            "flex": null,
            "flex_flow": null,
            "grid_area": null,
            "grid_auto_columns": null,
            "grid_auto_flow": null,
            "grid_auto_rows": null,
            "grid_column": null,
            "grid_gap": null,
            "grid_row": null,
            "grid_template_areas": null,
            "grid_template_columns": null,
            "grid_template_rows": null,
            "height": null,
            "justify_content": null,
            "justify_items": null,
            "left": null,
            "margin": null,
            "max_height": null,
            "max_width": null,
            "min_height": null,
            "min_width": null,
            "object_fit": null,
            "object_position": null,
            "order": null,
            "overflow": null,
            "overflow_x": null,
            "overflow_y": null,
            "padding": null,
            "right": null,
            "top": null,
            "visibility": null,
            "width": null
          }
        },
        "682f26bff4614779ae1244d57db2102a": {
          "model_module": "@jupyter-widgets/controls",
          "model_name": "ProgressStyleModel",
          "model_module_version": "1.5.0",
          "state": {
            "_model_module": "@jupyter-widgets/controls",
            "_model_module_version": "1.5.0",
            "_model_name": "ProgressStyleModel",
            "_view_count": null,
            "_view_module": "@jupyter-widgets/base",
            "_view_module_version": "1.2.0",
            "_view_name": "StyleView",
            "bar_color": null,
            "description_width": ""
          }
        },
        "c45e86e1803c4985ae0aaccfa04d120b": {
          "model_module": "@jupyter-widgets/base",
          "model_name": "LayoutModel",
          "model_module_version": "1.2.0",
          "state": {
            "_model_module": "@jupyter-widgets/base",
            "_model_module_version": "1.2.0",
            "_model_name": "LayoutModel",
            "_view_count": null,
            "_view_module": "@jupyter-widgets/base",
            "_view_module_version": "1.2.0",
            "_view_name": "LayoutView",
            "align_content": null,
            "align_items": null,
            "align_self": null,
            "border": null,
            "bottom": null,
            "display": null,
            "flex": null,
            "flex_flow": null,
            "grid_area": null,
            "grid_auto_columns": null,
            "grid_auto_flow": null,
            "grid_auto_rows": null,
            "grid_column": null,
            "grid_gap": null,
            "grid_row": null,
            "grid_template_areas": null,
            "grid_template_columns": null,
            "grid_template_rows": null,
            "height": null,
            "justify_content": null,
            "justify_items": null,
            "left": null,
            "margin": null,
            "max_height": null,
            "max_width": null,
            "min_height": null,
            "min_width": null,
            "object_fit": null,
            "object_position": null,
            "order": null,
            "overflow": null,
            "overflow_x": null,
            "overflow_y": null,
            "padding": null,
            "right": null,
            "top": null,
            "visibility": null,
            "width": null
          }
        },
        "36229302c89844d897e8b919337ee337": {
          "model_module": "@jupyter-widgets/controls",
          "model_name": "DescriptionStyleModel",
          "model_module_version": "1.5.0",
          "state": {
            "_model_module": "@jupyter-widgets/controls",
            "_model_module_version": "1.5.0",
            "_model_name": "DescriptionStyleModel",
            "_view_count": null,
            "_view_module": "@jupyter-widgets/base",
            "_view_module_version": "1.2.0",
            "_view_name": "StyleView",
            "description_width": ""
          }
        }
      }
    }
  },
  "cells": [
    {
      "cell_type": "markdown",
      "source": [
        "install huggingface transformerss library"
      ],
      "metadata": {
        "id": "NPi3XqeypBom"
      }
    },
    {
      "cell_type": "code",
      "execution_count": 1,
      "metadata": {
        "colab": {
          "base_uri": "https://localhost:8080/"
        },
        "id": "XwxDxE9voYjl",
        "outputId": "86f97c75-fd62-4852-cc39-eb0a10c4baf9"
      },
      "outputs": [
        {
          "output_type": "stream",
          "name": "stdout",
          "text": [
            "Looking in indexes: https://pypi.org/simple, https://us-python.pkg.dev/colab-wheels/public/simple/\n",
            "Collecting transformers\n",
            "  Downloading transformers-4.22.2-py3-none-any.whl (4.9 MB)\n",
            "\u001b[K     |████████████████████████████████| 4.9 MB 26.1 MB/s \n",
            "\u001b[?25hRequirement already satisfied: tqdm>=4.27 in /usr/local/lib/python3.7/dist-packages (from transformers) (4.64.1)\n",
            "Requirement already satisfied: regex!=2019.12.17 in /usr/local/lib/python3.7/dist-packages (from transformers) (2022.6.2)\n",
            "Requirement already satisfied: pyyaml>=5.1 in /usr/local/lib/python3.7/dist-packages (from transformers) (6.0)\n",
            "Requirement already satisfied: packaging>=20.0 in /usr/local/lib/python3.7/dist-packages (from transformers) (21.3)\n",
            "Collecting huggingface-hub<1.0,>=0.9.0\n",
            "  Downloading huggingface_hub-0.10.0-py3-none-any.whl (163 kB)\n",
            "\u001b[K     |████████████████████████████████| 163 kB 61.3 MB/s \n",
            "\u001b[?25hRequirement already satisfied: requests in /usr/local/lib/python3.7/dist-packages (from transformers) (2.23.0)\n",
            "Requirement already satisfied: importlib-metadata in /usr/local/lib/python3.7/dist-packages (from transformers) (4.12.0)\n",
            "Requirement already satisfied: numpy>=1.17 in /usr/local/lib/python3.7/dist-packages (from transformers) (1.21.6)\n",
            "Requirement already satisfied: filelock in /usr/local/lib/python3.7/dist-packages (from transformers) (3.8.0)\n",
            "Collecting tokenizers!=0.11.3,<0.13,>=0.11.1\n",
            "  Downloading tokenizers-0.12.1-cp37-cp37m-manylinux_2_12_x86_64.manylinux2010_x86_64.whl (6.6 MB)\n",
            "\u001b[K     |████████████████████████████████| 6.6 MB 49.5 MB/s \n",
            "\u001b[?25hRequirement already satisfied: typing-extensions>=3.7.4.3 in /usr/local/lib/python3.7/dist-packages (from huggingface-hub<1.0,>=0.9.0->transformers) (4.1.1)\n",
            "Requirement already satisfied: pyparsing!=3.0.5,>=2.0.2 in /usr/local/lib/python3.7/dist-packages (from packaging>=20.0->transformers) (3.0.9)\n",
            "Requirement already satisfied: zipp>=0.5 in /usr/local/lib/python3.7/dist-packages (from importlib-metadata->transformers) (3.8.1)\n",
            "Requirement already satisfied: urllib3!=1.25.0,!=1.25.1,<1.26,>=1.21.1 in /usr/local/lib/python3.7/dist-packages (from requests->transformers) (1.24.3)\n",
            "Requirement already satisfied: idna<3,>=2.5 in /usr/local/lib/python3.7/dist-packages (from requests->transformers) (2.10)\n",
            "Requirement already satisfied: certifi>=2017.4.17 in /usr/local/lib/python3.7/dist-packages (from requests->transformers) (2022.6.15)\n",
            "Requirement already satisfied: chardet<4,>=3.0.2 in /usr/local/lib/python3.7/dist-packages (from requests->transformers) (3.0.4)\n",
            "Installing collected packages: tokenizers, huggingface-hub, transformers\n",
            "Successfully installed huggingface-hub-0.10.0 tokenizers-0.12.1 transformers-4.22.2\n"
          ]
        }
      ],
      "source": [
        "!pip install transformers"
      ]
    },
    {
      "cell_type": "markdown",
      "source": [
        "Load Fine-Tuned Bert large"
      ],
      "metadata": {
        "id": "qSXcAWCtpSAY"
      }
    },
    {
      "cell_type": "markdown",
      "source": [
        "model discribtion\n",
        "https://huggingface.co/bert-large-uncased-whole-word-masking-finetuned-squad"
      ],
      "metadata": {
        "id": "gMZnTLM-rkbK"
      }
    },
    {
      "cell_type": "code",
      "source": [
        "from transformers import BertForQuestionAnswering\n",
        "\n",
        "model =BertForQuestionAnswering.from_pretrained('bert-large-uncased-whole-word-masking-finetuned-squad')"
      ],
      "metadata": {
        "colab": {
          "base_uri": "https://localhost:8080/",
          "height": 81,
          "referenced_widgets": [
            "36caa2f12545484b9e1ef6f6bc3cb54f",
            "743b89803d574de2b267b69e50caf4d2",
            "2f08d6e549894133a3c2c76d48f92343",
            "35c21ec4917343aeb8802ed0cf6dc440",
            "b9bddff1c5f741d79492b46eb064bc02",
            "2bf7584941354aecae64e011f93991cb",
            "8dda446c0fec47eb9417544d5b65d08e",
            "f080393898f8411daec9dfbcb285594c",
            "ffeb1743047c43288dabfb7074c6b749",
            "1b50bcf5e2ab4a1dae6900ae2891df28",
            "5b764f0525324b299ef31f09985b9af9",
            "adc036b7e036406b96265c814478759a",
            "2a8ad21702b14141bd2faa667aa9aa24",
            "1b68c6323ca94c7883f1005e74437a1a",
            "0248a512fd7c4237afa3ef451005e970",
            "255b075b09494fa2ad6b5296485396ad",
            "e284d5860fa04b409b33f079325a2d71",
            "c07b2e82957643b9b39620cfe9600286",
            "4ab5719030b54d99b72b3fad97c59baa",
            "a5740b05ed4a440ab5da2b74b5bef7cb",
            "76d84627545340e4b88c425541597958",
            "bd28b05d9b2b4054b937269a7be9bfcb"
          ]
        },
        "id": "fhGWPfsypXkg",
        "outputId": "e28edb0c-4ce0-4c1f-84f8-c4a58b329026"
      },
      "execution_count": 4,
      "outputs": [
        {
          "output_type": "display_data",
          "data": {
            "text/plain": [
              "Downloading:   0%|          | 0.00/443 [00:00<?, ?B/s]"
            ],
            "application/vnd.jupyter.widget-view+json": {
              "version_major": 2,
              "version_minor": 0,
              "model_id": "36caa2f12545484b9e1ef6f6bc3cb54f"
            }
          },
          "metadata": {}
        },
        {
          "output_type": "display_data",
          "data": {
            "text/plain": [
              "Downloading:   0%|          | 0.00/1.34G [00:00<?, ?B/s]"
            ],
            "application/vnd.jupyter.widget-view+json": {
              "version_major": 2,
              "version_minor": 0,
              "model_id": "adc036b7e036406b96265c814478759a"
            }
          },
          "metadata": {}
        }
      ]
    },
    {
      "cell_type": "code",
      "source": [
        "from transformers import BertTokenizer\n",
        "\n",
        "tokenizer = BertTokenizer.from_pretrained('bert-large-uncased-whole-word-masking-finetuned-squad')"
      ],
      "metadata": {
        "colab": {
          "base_uri": "https://localhost:8080/",
          "height": 81,
          "referenced_widgets": [
            "4dbe042fc3e74cba952c7c49726a917e",
            "5fd8766beb4a4a9f9e9831db45cd6362",
            "c625501349c642e59a25a0c150bb80f5",
            "8ad29b6d003c461bb7e80801f96021ad",
            "6cbe097dbfc845fa8102229daadbbe4f",
            "cdb4a10669504fea80dfdf80ea39a778",
            "d8b077b3926140949fa955ee347bf623",
            "3705c4ed79264a43b8a55b664d64ffda",
            "130510196a0546649d30c4dbc151723a",
            "07139b18e92742968d2ccf3f6f98d7b7",
            "d528e531353a4e33b966280b7450f7bc",
            "6ec03895b25844e290284d42852c9bda",
            "7330c15a6b944235a316a98259718799",
            "1a80f8b09fc44fda852c01d8dcb84977",
            "1966de45eb9649aa8be61a1ad7683e25",
            "991540e1e40e4a40a69b4b6d074d620f",
            "af728493b39a4fd88d9e932ecbc48345",
            "fd083f39d0f8471cbadb1cdac44099cb",
            "765b1b0d0a9b4a2b93a6188be747b97e",
            "682f26bff4614779ae1244d57db2102a",
            "c45e86e1803c4985ae0aaccfa04d120b",
            "36229302c89844d897e8b919337ee337"
          ]
        },
        "id": "KuhLzOIGrq-s",
        "outputId": "500ee029-1c32-4b42-a2d3-f3aaec1b579b"
      },
      "execution_count": 5,
      "outputs": [
        {
          "output_type": "display_data",
          "data": {
            "text/plain": [
              "Downloading:   0%|          | 0.00/232k [00:00<?, ?B/s]"
            ],
            "application/vnd.jupyter.widget-view+json": {
              "version_major": 2,
              "version_minor": 0,
              "model_id": "4dbe042fc3e74cba952c7c49726a917e"
            }
          },
          "metadata": {}
        },
        {
          "output_type": "display_data",
          "data": {
            "text/plain": [
              "Downloading:   0%|          | 0.00/28.0 [00:00<?, ?B/s]"
            ],
            "application/vnd.jupyter.widget-view+json": {
              "version_major": 2,
              "version_minor": 0,
              "model_id": "6ec03895b25844e290284d42852c9bda"
            }
          },
          "metadata": {}
        }
      ]
    },
    {
      "cell_type": "code",
      "source": [
        "question=\"How many parameters does Bert-large have?\"\n",
        "context=\"BERT large, with 345 million parameters, is the largest model of its kind. It is\\\n",
        "demonstrably superior on small-scale tasks to BERT base, which uses the same architecture with 110\\\n",
        "million parameters.However, we need corresponding computational power to make BERT work. I\\\n",
        "need to learn more about how to evaluate different VMs for which task in the future. With enough\\\n",
        "training data, more training steps will result with a higher accuracy. For instance, the BERT base\\\n",
        "accuracy improves when trained on 1M steps compared to 500k steps with the same batch size\\\n",
        "some research paper. BERT’s bidirectional approach converges slower than left-to-right approaches,\\\n",
        "because only 15% of words are predicted in each batch, but bidirectional training still outperforms\\\n",
        "left-to-right training after a small number of pre-training steps. This is proven by compare BERT\\\n",
        "with BiDAF.\"\n"
      ],
      "metadata": {
        "id": "FTSeMAt7sfZ8"
      },
      "execution_count": 6,
      "outputs": []
    },
    {
      "cell_type": "code",
      "source": [
        "# apply the tokenizer to in put text , treatingthem as a text pair\n",
        "input_ids=tokenizer.encode(question,context)\n",
        "\n",
        "print('The input has a total of {} tokens.'.format(len(input_ids)))"
      ],
      "metadata": {
        "colab": {
          "base_uri": "https://localhost:8080/"
        },
        "id": "zeB4d0yhtefV",
        "outputId": "8722e9f2-7c20-4b62-fe7c-a51a1518857e"
      },
      "execution_count": 8,
      "outputs": [
        {
          "output_type": "stream",
          "name": "stdout",
          "text": [
            "The input has a total of 201 tokens.\n"
          ]
        }
      ]
    },
    {
      "cell_type": "markdown",
      "source": [
        "just to see exactly what the tokenizer is doing , let's print out the tokens with their iDs."
      ],
      "metadata": {
        "id": "6-5dHJ81uIPQ"
      }
    },
    {
      "cell_type": "code",
      "source": [
        "tokens =tokenizer.convert_ids_to_tokens(input_ids)\n",
        "\n",
        "for token , id in zip(tokens , input_ids):\n",
        "  print(f\"{token}\\t\\t{id}\")\n"
      ],
      "metadata": {
        "colab": {
          "base_uri": "https://localhost:8080/"
        },
        "id": "LNclIcWXuWcI",
        "outputId": "4b228410-f414-4d0b-b899-f7ac7fe24cf6"
      },
      "execution_count": 11,
      "outputs": [
        {
          "output_type": "stream",
          "name": "stdout",
          "text": [
            "[CLS]\t\t101\n",
            "how\t\t2129\n",
            "many\t\t2116\n",
            "parameters\t\t11709\n",
            "does\t\t2515\n",
            "bert\t\t14324\n",
            "-\t\t1011\n",
            "large\t\t2312\n",
            "have\t\t2031\n",
            "?\t\t1029\n",
            "[SEP]\t\t102\n",
            "bert\t\t14324\n",
            "large\t\t2312\n",
            ",\t\t1010\n",
            "with\t\t2007\n",
            "345\t\t23785\n",
            "million\t\t2454\n",
            "parameters\t\t11709\n",
            ",\t\t1010\n",
            "is\t\t2003\n",
            "the\t\t1996\n",
            "largest\t\t2922\n",
            "model\t\t2944\n",
            "of\t\t1997\n",
            "its\t\t2049\n",
            "kind\t\t2785\n",
            ".\t\t1012\n",
            "it\t\t2009\n",
            "is\t\t2003\n",
            "##de\t\t3207\n",
            "##mons\t\t16563\n",
            "##tra\t\t6494\n",
            "##bly\t\t6321\n",
            "superior\t\t6020\n",
            "on\t\t2006\n",
            "small\t\t2235\n",
            "-\t\t1011\n",
            "scale\t\t4094\n",
            "tasks\t\t8518\n",
            "to\t\t2000\n",
            "bert\t\t14324\n",
            "base\t\t2918\n",
            ",\t\t1010\n",
            "which\t\t2029\n",
            "uses\t\t3594\n",
            "the\t\t1996\n",
            "same\t\t2168\n",
            "architecture\t\t4294\n",
            "with\t\t2007\n",
            "110\t\t7287\n",
            "##mill\t\t19912\n",
            "##ion\t\t3258\n",
            "parameters\t\t11709\n",
            ".\t\t1012\n",
            "however\t\t2174\n",
            ",\t\t1010\n",
            "we\t\t2057\n",
            "need\t\t2342\n",
            "corresponding\t\t7978\n",
            "computational\t\t15078\n",
            "power\t\t2373\n",
            "to\t\t2000\n",
            "make\t\t2191\n",
            "bert\t\t14324\n",
            "work\t\t2147\n",
            ".\t\t1012\n",
            "in\t\t1999\n",
            "##eed\t\t13089\n",
            "to\t\t2000\n",
            "learn\t\t4553\n",
            "more\t\t2062\n",
            "about\t\t2055\n",
            "how\t\t2129\n",
            "to\t\t2000\n",
            "evaluate\t\t16157\n",
            "different\t\t2367\n",
            "v\t\t1058\n",
            "##ms\t\t5244\n",
            "for\t\t2005\n",
            "which\t\t2029\n",
            "task\t\t4708\n",
            "in\t\t1999\n",
            "the\t\t1996\n",
            "future\t\t2925\n",
            ".\t\t1012\n",
            "with\t\t2007\n",
            "enough\t\t2438\n",
            "##train\t\t23654\n",
            "##ing\t\t2075\n",
            "data\t\t2951\n",
            ",\t\t1010\n",
            "more\t\t2062\n",
            "training\t\t2731\n",
            "steps\t\t4084\n",
            "will\t\t2097\n",
            "result\t\t2765\n",
            "with\t\t2007\n",
            "a\t\t1037\n",
            "higher\t\t3020\n",
            "accuracy\t\t10640\n",
            ".\t\t1012\n",
            "for\t\t2005\n",
            "instance\t\t6013\n",
            ",\t\t1010\n",
            "the\t\t1996\n",
            "bert\t\t14324\n",
            "base\t\t2918\n",
            "##ac\t\t6305\n",
            "##cu\t\t10841\n",
            "##rac\t\t22648\n",
            "##y\t\t2100\n",
            "improves\t\t24840\n",
            "when\t\t2043\n",
            "trained\t\t4738\n",
            "on\t\t2006\n",
            "1\t\t1015\n",
            "##m\t\t2213\n",
            "steps\t\t4084\n",
            "compared\t\t4102\n",
            "to\t\t2000\n",
            "500\t\t3156\n",
            "##k\t\t2243\n",
            "steps\t\t4084\n",
            "with\t\t2007\n",
            "the\t\t1996\n",
            "same\t\t2168\n",
            "batch\t\t14108\n",
            "sizes\t\t10826\n",
            "##ome\t\t8462\n",
            "research\t\t2470\n",
            "paper\t\t3259\n",
            ".\t\t1012\n",
            "bert\t\t14324\n",
            "’\t\t1521\n",
            "s\t\t1055\n",
            "bid\t\t7226\n",
            "##ire\t\t7442\n",
            "##ction\t\t7542\n",
            "##al\t\t2389\n",
            "approach\t\t3921\n",
            "converge\t\t28314\n",
            "##s\t\t2015\n",
            "slower\t\t12430\n",
            "than\t\t2084\n",
            "left\t\t2187\n",
            "-\t\t1011\n",
            "to\t\t2000\n",
            "-\t\t1011\n",
            "right\t\t2157\n",
            "approaches\t\t8107\n",
            ",\t\t1010\n",
            "because\t\t2138\n",
            "only\t\t2069\n",
            "15\t\t2321\n",
            "%\t\t1003\n",
            "of\t\t1997\n",
            "words\t\t2616\n",
            "are\t\t2024\n",
            "predicted\t\t10173\n",
            "in\t\t1999\n",
            "each\t\t2169\n",
            "batch\t\t14108\n",
            ",\t\t1010\n",
            "but\t\t2021\n",
            "bid\t\t7226\n",
            "##ire\t\t7442\n",
            "##ction\t\t7542\n",
            "##al\t\t2389\n",
            "training\t\t2731\n",
            "still\t\t2145\n",
            "out\t\t2041\n",
            "##per\t\t4842\n",
            "##forms\t\t22694\n",
            "##le\t\t2571\n",
            "##ft\t\t6199\n",
            "-\t\t1011\n",
            "to\t\t2000\n",
            "-\t\t1011\n",
            "right\t\t2157\n",
            "training\t\t2731\n",
            "after\t\t2044\n",
            "a\t\t1037\n",
            "small\t\t2235\n",
            "number\t\t2193\n",
            "of\t\t1997\n",
            "pre\t\t3653\n",
            "-\t\t1011\n",
            "training\t\t2731\n",
            "steps\t\t4084\n",
            ".\t\t1012\n",
            "this\t\t2023\n",
            "is\t\t2003\n",
            "proven\t\t10003\n",
            "by\t\t2011\n",
            "compare\t\t12826\n",
            "bert\t\t14324\n",
            "##with\t\t24415\n",
            "bid\t\t7226\n",
            "##af\t\t10354\n",
            ".\t\t1012\n",
            "[SEP]\t\t102\n"
          ]
        }
      ]
    },
    {
      "cell_type": "markdown",
      "source": [
        "we've concatenated the question and answer_text together , but Bert still needs a way to distinguish them. Bert has two special embeddings one for segment \"A\" and one for segment \"B\" .Before the word embeddings go into bert layers the segment A needs to be added to the question tokens , and the segment B embedding needs to be added to each of context token "
      ],
      "metadata": {
        "id": "QKUfkU9XvN-k"
      }
    },
    {
      "cell_type": "code",
      "source": [
        "#search the input_ids for the first instance of the '[SEP]' token.\n",
        "sep_index =input_ids.index(tokenizer.sep_token_id)\n",
        "\n",
        "num_seg_a=sep_index+1\n",
        "num_seg_b=len(input_ids)-num_seg_a\n",
        "\n",
        "segment_ids=[0]*num_seg_a+[1]*num_seg_b\n",
        "\n",
        "assert len(segment_ids)==len(input_ids)"
      ],
      "metadata": {
        "id": "-uzecLvWwQ6G"
      },
      "execution_count": 12,
      "outputs": []
    },
    {
      "cell_type": "code",
      "source": [
        "import torch\n",
        "\n",
        "dic= model(torch.tensor([input_ids]),token_type_ids=torch.tensor([segment_ids]))"
      ],
      "metadata": {
        "id": "DEg0owM_zAoV"
      },
      "execution_count": 32,
      "outputs": []
    },
    {
      "cell_type": "markdown",
      "source": [
        "now we can highlight the answer"
      ],
      "metadata": {
        "id": "c_-TrvvI0vSr"
      }
    },
    {
      "cell_type": "code",
      "source": [
        "answer_start =torch.argmax(dic[0])\n",
        "answer_end=torch.argmax(dic[1])\n",
        "\n",
        "\n",
        "answer =' '.join(tokens[answer_start:answer_end+1])\n",
        "print(f\"start index {answer_start} end index {answer_end}\")\n",
        "print(f\"answer: {answer}\")"
      ],
      "metadata": {
        "colab": {
          "base_uri": "https://localhost:8080/"
        },
        "id": "_tXaN4D00omj",
        "outputId": "752cd228-477e-4b9a-91e3-737daf613fca"
      },
      "execution_count": 45,
      "outputs": [
        {
          "output_type": "stream",
          "name": "stdout",
          "text": [
            "start index15 end index 16\n",
            "answer: 345 million\n"
          ]
        }
      ]
    },
    {
      "cell_type": "markdown",
      "source": [
        "now try to reconstruct any words that got broken down into subwords"
      ],
      "metadata": {
        "id": "GbtvmECc4mpW"
      }
    },
    {
      "cell_type": "code",
      "source": [
        "Answer=tokens[answer_start]\n",
        "for i in range (answer_start+1 ,answer_end+1):\n",
        "  if tokens[i][0:2]==\"##\":\n",
        "    Answer +=tokens[2:]\n",
        "  else :\n",
        "    Answer +=\" \"+ tokens[i]\n",
        "\n",
        "print(f\"Answer: {Answer}\")      "
      ],
      "metadata": {
        "colab": {
          "base_uri": "https://localhost:8080/"
        },
        "id": "M_c8l3sa4gOF",
        "outputId": "43c4a281-d9c8-4c64-a303-497a37a02a96"
      },
      "execution_count": 47,
      "outputs": [
        {
          "output_type": "stream",
          "name": "stdout",
          "text": [
            "Answer: 345 million\n"
          ]
        }
      ]
    },
    {
      "cell_type": "markdown",
      "source": [
        "Visualizing Scores"
      ],
      "metadata": {
        "id": "PQZu9Wh85tG3"
      }
    },
    {
      "cell_type": "code",
      "source": [
        "import matplotlib.pyplot as plt\n",
        "import seaborn as sns\n",
        "\n",
        "#use plot styling from seaborn\n",
        "sns.set(style='darkgrid')\n",
        "plt.rcParams[\"figure.figsize\"]=(16,8)"
      ],
      "metadata": {
        "id": "QJtuINMq5yRy"
      },
      "execution_count": 49,
      "outputs": []
    },
    {
      "cell_type": "code",
      "source": [
        "s_scores=dic[0].detach().numpy().flatten()\n",
        "e_scores=dic[1].detach().numpy().flatten()\n",
        "token_labels=[]\n",
        "for (i,token) in enumerate(tokens):\n",
        "  token_labels.append(token +\"\\t\\t\"+str(i))"
      ],
      "metadata": {
        "id": "sCHmGXFO6qac"
      },
      "execution_count": 52,
      "outputs": []
    },
    {
      "cell_type": "code",
      "source": [
        "ax =sns.barplot(x=token_labels,y=s_scores,ci=None)\n",
        "ax.set_xticklabels(ax.get_xticklabels(),rotation=90,ha=\"center\")\n",
        "\n",
        "ax.grid(True)\n",
        "plt.title('start word scores')\n",
        "plt.show()"
      ],
      "metadata": {
        "colab": {
          "base_uri": "https://localhost:8080/",
          "height": 671
        },
        "id": "KWfjvEEk7tjE",
        "outputId": "822446df-e3f6-446c-b6ed-e92181e396d4"
      },
      "execution_count": 53,
      "outputs": [
        {
          "output_type": "stream",
          "name": "stderr",
          "text": [
            "/usr/local/lib/python3.7/dist-packages/matplotlib/backends/backend_agg.py:214: RuntimeWarning: Glyph 9 missing from current font.\n",
            "  font.set_text(s, 0.0, flags=flags)\n",
            "/usr/local/lib/python3.7/dist-packages/matplotlib/backends/backend_agg.py:183: RuntimeWarning: Glyph 9 missing from current font.\n",
            "  font.set_text(s, 0, flags=flags)\n"
          ]
        },
        {
          "output_type": "display_data",
          "data": {
            "text/plain": [
              "<Figure size 1152x576 with 1 Axes>"
            ],
            "image/png": "[encoded data removed]"
          },
          "metadata": {}
        }
      ]
    },
    {
      "cell_type": "code",
      "source": [
        "ax =sns.barplot(x=token_labels,y=e_scores,ci=None)\n",
        "ax.set_xticklabels(ax.get_xticklabels(),rotation=90,ha=\"center\")\n",
        "\n",
        "ax.grid(True)\n",
        "plt.title('end word scores')\n",
        "plt.show()"
      ],
      "metadata": {
        "colab": {
          "base_uri": "https://localhost:8080/",
          "height": 671
        },
        "id": "fUHk-WJ-8feI",
        "outputId": "191f180c-d6ff-4541-db34-15840059f35e"
      },
      "execution_count": 54,
      "outputs": [
        {
          "output_type": "stream",
          "name": "stderr",
          "text": [
            "/usr/local/lib/python3.7/dist-packages/matplotlib/backends/backend_agg.py:214: RuntimeWarning: Glyph 9 missing from current font.\n",
            "  font.set_text(s, 0.0, flags=flags)\n",
            "/usr/local/lib/python3.7/dist-packages/matplotlib/backends/backend_agg.py:183: RuntimeWarning: Glyph 9 missing from current font.\n",
            "  font.set_text(s, 0, flags=flags)\n"
          ]
        },
        {
          "output_type": "display_data",
          "data": {
            "text/plain": [
              "<Figure size 1152x576 with 1 Axes>"
            ],
            "image/png": "[encoded data removed]"
          },
          "metadata": {}
        }
      ]
    }
  ]
}